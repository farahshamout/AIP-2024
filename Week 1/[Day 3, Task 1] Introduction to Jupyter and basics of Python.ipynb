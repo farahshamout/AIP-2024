{
 "cells": [
  {
   "cell_type": "markdown",
   "metadata": {
    "id": "PGWgvuVtn88S"
   },
   "source": [
    "<sup>This notebook is adapted from the Lab01 notebook in https://github.com/data-8/data8assets and licensed for reuse under [Creative Commons Attribution-NonCommercial 4.0 International (CC BY-NC 4.0)](http://creativecommons.org/licenses/by-nc/4.0/). We also made modifications for our course.</sup>\n",
    "\n",
    "# Introduction to Jupyter notebook and basics of Python\n",
    "\n",
    "In this exercise, you'll learn how to:\n",
    "\n",
    "1. navigate Jupyter notebooks (like this one);\n",
    "2. write and evaluate some basic *expressions* in Python, the computer language of the course.\n",
    "3. learn about the main building blocks of programs, like functions and classes"
   ]
  },
  {
   "cell_type": "markdown",
   "metadata": {
    "id": "O8v18dH2n88U"
   },
   "source": [
    "# 1. Jupyter notebooks\n",
    "This webpage is called a Jupyter notebook. A notebook is a place to write programs and view their results.\n",
    "\n",
    "## 1.1. Text cells\n",
    "In a notebook, each rectangle containing text or code is called a *cell*.\n",
    "\n",
    "Text cells (like this one) can be edited by double-clicking on them. They're written in a simple format called [Markdown](http://daringfireball.net/projects/markdown/syntax) to add formatting and section headings.  You don't need to learn Markdown, but you might want to.\n",
    "\n",
    "After you edit a text cell, click the \"run cell\" button at the top that looks like ▶| to confirm any changes. (Try not to delete the instructions of the lab.)"
   ]
  },
  {
   "cell_type": "markdown",
   "metadata": {
    "id": "V30L43jXn88V"
   },
   "source": [
    "**Question 1.1.1.** This paragraph is in its own text cell.  Try editing it so that this sentence is the last sentence in the paragraph, and then click the \"run cell\" ▶| button .  This sentence, for example, should be deleted.  So should this one."
   ]
  },
  {
   "cell_type": "markdown",
   "metadata": {
    "id": "O-Iymdoqn88V"
   },
   "source": [
    "## 1.2. Code cells\n",
    "Other cells contain code in the Python 3 language. Running a code cell will execute all of the code it contains.\n",
    "\n",
    "To run the code in a code cell, first click on that cell to activate it.  It'll be highlighted with a little green or blue rectangle.  Next, either press ▶| or hold down the `shift` key and press `return` or `enter`.\n",
    "\n",
    "Try running this cell:"
   ]
  },
  {
   "cell_type": "code",
   "execution_count": null,
   "metadata": {
    "colab": {
     "base_uri": "https://localhost:8080/"
    },
    "id": "bD4cTUG8n88V",
    "outputId": "7112a6c8-892a-4c8f-cef5-c78b79616706"
   },
   "outputs": [],
   "source": [
    "print(\"Hello, World!\")"
   ]
  },
  {
   "cell_type": "markdown",
   "metadata": {
    "id": "FvgEtrkin88W"
   },
   "source": [
    "And this one:"
   ]
  },
  {
   "cell_type": "code",
   "execution_count": null,
   "metadata": {
    "colab": {
     "base_uri": "https://localhost:8080/"
    },
    "id": "xrRRiG3Tn88X",
    "outputId": "51d9707c-0fbd-4e7f-e38c-d5459e36a33f"
   },
   "outputs": [],
   "source": [
    "print(\"\\N{WAVING HAND SIGN}, \\N{EARTH GLOBE ASIA-AUSTRALIA}!\")"
   ]
  },
  {
   "cell_type": "markdown",
   "metadata": {
    "id": "Bw8vkZDDn88X"
   },
   "source": [
    "The fundamental building block of Python code is an expression. Cells can contain multiple lines with multiple expressions. When you run a cell, the lines of code are executed in the order in which they appear. Every `print` expression prints a line. Run the next cell and notice the order of the output."
   ]
  },
  {
   "cell_type": "code",
   "execution_count": null,
   "metadata": {
    "colab": {
     "base_uri": "https://localhost:8080/"
    },
    "id": "gqskaTMyn88Y",
    "outputId": "28446737-7061-4018-a171-bffc400300d4"
   },
   "outputs": [],
   "source": [
    "print(\"First this line is printed,\")\n",
    "print(\"and then this one.\")"
   ]
  },
  {
   "cell_type": "markdown",
   "metadata": {
    "id": "NuwYSWA3n88Y"
   },
   "source": [
    "**Question 1.2.1.** Change the cell above so that it prints out:\n",
    "\n",
    "    First this line,\n",
    "    then the whole 🌏,\n",
    "    and then this one.\n",
    "\n",
    "*Hint:* If you're stuck on the Earth symbol for more than a few minutes, try talking to a neighbor or a TA.  That's a good idea for any lab problem."
   ]
  },
  {
   "cell_type": "code",
   "execution_count": null,
   "metadata": {
    "colab": {
     "base_uri": "https://localhost:8080/"
    },
    "id": "ygfiF59Pn88Y",
    "outputId": "afd4b84d-53be-42db-d241-e79af7dd1e3f"
   },
   "outputs": [],
   "source": [
    "print(\"First this line\")\n",
    "print('then the whole \\N{Earth Globe Asia-Australia}')\n",
    "print(\"and then this one.\")"
   ]
  },
  {
   "cell_type": "markdown",
   "metadata": {
    "id": "7gyHmFcKn88Z"
   },
   "source": [
    "## 1.3. Writing Jupyter notebooks\n",
    "You can use Jupyter notebooks for your own projects or documents.  When you make your own notebook, you'll need to create your own cells for text and code.\n",
    "\n",
    "To add a cell, click the + button in the menu bar.  It'll start out as a text cell.  You can change it to a code cell by clicking inside it so it's highlighted, clicking the drop-down box next to the restart (⟳) button in the menu bar, and choosing \"Code\".\n",
    "\n",
    "**Question 1.3.1.** Add a code cell below this one.  Write code in it that prints out:\n",
    "   \n",
    "    A whole new cell! ♪🌏♪\n",
    "\n",
    "(That musical note symbol is like the Earth symbol.  Its long-form name is `\\N{EIGHTH NOTE}`.)\n",
    "\n",
    "Run your cell to verify that it works."
   ]
  },
  {
   "cell_type": "code",
   "execution_count": null,
   "metadata": {
    "colab": {
     "base_uri": "https://localhost:8080/"
    },
    "id": "dOCmYut0n88Z",
    "outputId": "d16f48fe-fa36-4f83-df3c-5886572fa71a"
   },
   "outputs": [],
   "source": [
    "print('A whole new cell! \\N{EIGHTH NOTE} \\N{EARTH GLOBE ASIA-AUSTRALIA}\\N{EIGHTH NOTE}')"
   ]
  },
  {
   "cell_type": "markdown",
   "metadata": {
    "id": "l1qn8uTzn88Z"
   },
   "source": [
    "## 1.4. Errors\n",
    "Python is a language, and like natural human languages, it has rules.  It differs from natural language in two important ways:\n",
    "1. The rules are *simple*.  You can learn most of them in a few weeks and gain reasonable proficiency with the language in a semester.\n",
    "2. The rules are *rigid*.  If you're proficient in a natural language, you can understand a non-proficient speaker, glossing over small mistakes.  A computer running Python code is not smart enough to do that.\n",
    "\n",
    "Whenever you write code, you'll make mistakes.  When you run a code cell that has errors, Python will sometimes produce error messages to tell you what you did wrong.\n",
    "\n",
    "Errors are okay; even experienced programmers make many errors.  When you make an error, you just have to find the source of the problem, fix it, and move on.\n",
    "\n",
    "We have made an error in the next cell.  Run it and see what happens."
   ]
  },
  {
   "cell_type": "code",
   "execution_count": null,
   "metadata": {
    "colab": {
     "base_uri": "https://localhost:8080/"
    },
    "id": "h_8Mx0pyn88a",
    "outputId": "1fabe4ef-4563-4548-95ee-da429a78f76d"
   },
   "outputs": [],
   "source": [
    "print(\"This line is missing something.\")"
   ]
  },
  {
   "cell_type": "markdown",
   "metadata": {
    "id": "4x_655vZn88a"
   },
   "source": [
    "The last line of the error output attempts to tell you what went wrong.  The *syntax* of a language is its structure, and this `SyntaxError` tells you that you have created an illegal structure.  \"`EOF`\" means \"end of file,\" so the message is saying Python expected you to write something more (in this case, a right parenthesis) before finishing the cell.\n",
    "\n",
    "There's a lot of terminology in programming languages, but you don't need to know it all in order to program effectively. If you see a cryptic message like this, you can often get by without deciphering it.  (Of course, if you're frustrated, ask a neighbor or the lecturer for help.)\n",
    "\n",
    "Try to fix the code above so that you can run the cell and see the intended message instead of an error."
   ]
  },
  {
   "cell_type": "markdown",
   "metadata": {
    "id": "jb_A7meQn88a"
   },
   "source": [
    "## 1.5. Import libraries"
   ]
  },
  {
   "cell_type": "markdown",
   "metadata": {
    "id": "uE__oZ8Kn88b"
   },
   "source": [
    "You can import a library as shown below"
   ]
  },
  {
   "cell_type": "code",
   "execution_count": null,
   "metadata": {
    "id": "oUrMDXxvn88b"
   },
   "outputs": [],
   "source": [
    "import math"
   ]
  },
  {
   "cell_type": "markdown",
   "metadata": {
    "id": "FjXnwTRyn88b"
   },
   "source": [
    "# 2. Numbers\n",
    "\n",
    "Quantitative information arises everywhere in data science. In addition to representing commands to print out lines, expressions can represent numbers and methods of combining numbers. The expression `3.2500` evaluates to the number 3.25. (Run the cell and see.)"
   ]
  },
  {
   "cell_type": "code",
   "execution_count": null,
   "metadata": {
    "colab": {
     "base_uri": "https://localhost:8080/"
    },
    "id": "gG4hvNbKn88b",
    "outputId": "f587ddd2-9e4e-4f62-a9f7-3c23bf3ab103"
   },
   "outputs": [],
   "source": [
    "3.2500"
   ]
  },
  {
   "cell_type": "markdown",
   "metadata": {
    "id": "BqkUgmden88b"
   },
   "source": [
    "Notice that we didn't have to `print`. When you run a notebook cell, if the last line has a value, then Jupyter helpfully prints out that value for you. However, it won't print out prior lines automatically."
   ]
  },
  {
   "cell_type": "code",
   "execution_count": null,
   "metadata": {
    "colab": {
     "base_uri": "https://localhost:8080/"
    },
    "id": "gBYdytlJn88b",
    "outputId": "63eb061a-ab82-4a49-f339-9a1494455234",
    "scrolled": true
   },
   "outputs": [],
   "source": [
    "print(2)\n",
    "3\n",
    "4"
   ]
  },
  {
   "cell_type": "markdown",
   "metadata": {
    "id": "U4ZI91jOn88c"
   },
   "source": [
    "Above, you should see that 4 is the value of the last expression, 2 is printed, but 3 is lost forever because it was neither printed nor last.\n",
    "\n",
    "You don't want to print everything all the time anyway.  But if you feel sorry for 3, change the cell above to print it."
   ]
  },
  {
   "cell_type": "markdown",
   "metadata": {
    "id": "l3YS8u1pn88c"
   },
   "source": [
    "## 2.1. Arithmetic\n",
    "The line in the next cell subtracts.  Its value is what you'd expect.  Run it."
   ]
  },
  {
   "cell_type": "code",
   "execution_count": null,
   "metadata": {
    "colab": {
     "base_uri": "https://localhost:8080/"
    },
    "id": "_UjVvZfHn88c",
    "outputId": "d98bb084-e982-49fa-ce7d-38d670275b22"
   },
   "outputs": [],
   "source": [
    "3.25 - 1.5"
   ]
  },
  {
   "cell_type": "markdown",
   "metadata": {
    "id": "Yq7xB6ZOn88c"
   },
   "source": [
    "Many basic arithmetic operations are built in to Python.  The textbook section on [Expressions](http://www.inferentialthinking.com/chapters/03/1/expressions.html) describes all the arithmetic operators used in the course.  The common operator that differs from typical math notation is `**`, which raises one number to the power of the other. So, `2**3` stands for $2^3$ and evaluates to 8.\n",
    "\n",
    "The order of operations is what you learned in elementary school, and Python also has parentheses.  For example, compare the outputs of the cells below. Use parentheses for a happy new year!"
   ]
  },
  {
   "cell_type": "code",
   "execution_count": null,
   "metadata": {
    "colab": {
     "base_uri": "https://localhost:8080/"
    },
    "id": "SFT2Oq5Rn88c",
    "outputId": "7e9d477e-dd40-4605-d37b-65b5e2969789"
   },
   "outputs": [],
   "source": [
    "1+6*5-6*3**2*2**3/4*7"
   ]
  },
  {
   "cell_type": "code",
   "execution_count": null,
   "metadata": {
    "colab": {
     "base_uri": "https://localhost:8080/"
    },
    "id": "a_T1x5I6n88c",
    "outputId": "4d72134c-5d82-4841-e01e-6b17bc53306a"
   },
   "outputs": [],
   "source": [
    "1+(6*5-(6*3))**2*((2**3)/4*7)"
   ]
  },
  {
   "cell_type": "markdown",
   "metadata": {
    "id": "uh5bJcnNn88c"
   },
   "source": [
    "In standard math notation, the first expression is\n",
    "\n",
    "$$1 + 6 \\times 5 - 6 \\times 3^2 \\times \\frac{2^3}{4} \\times 7,$$\n",
    "\n",
    "while the second expression is\n",
    "\n",
    "$$1 + (6 \\times 5 - (6 \\times 3))^2 \\times (\\frac{(2^3)}{4} \\times 7).$$\n",
    "\n",
    "**Question 2.1.1.** Write a Python expression in this next cell that's equal to $5 \\times (3 \\frac{10}{11}) - 50 \\frac{1}{3} + 2^{.5 \\times 22} - \\frac{7}{33}$.  That's five times three and ten elevenths, minus fifty and a third, plus two to the power of half 22, minus 7 33rds.  By \"$3 \\frac{10}{11}$\" we mean $3+\\frac{10}{11}$, not $3 \\times \\frac{10}{11}$.\n",
    "\n",
    "Replace the ellipses (`...`) with your expression.  Try to use parentheses only when necessary.\n",
    "\n",
    "*Hint:* The correct output should start with a familiar number."
   ]
  },
  {
   "cell_type": "code",
   "execution_count": null,
   "metadata": {
    "id": "i5dj38C7n88c"
   },
   "outputs": [],
   "source": [
    "..."
   ]
  },
  {
   "cell_type": "markdown",
   "metadata": {
    "id": "Jbm1nCeOn88c"
   },
   "source": [
    "# 3. Names\n",
    "In natural language, we have terminology that lets us quickly reference very complicated concepts.  We don't say, \"That's a large mammal with brown fur and sharp teeth!\"  Instead, we just say, \"Bear!\"\n",
    "\n",
    "Similarly, an effective strategy for writing code is to define names for data as we compute it, like a lawyer would define terms for complex ideas at the start of a legal document to simplify the rest of the writing.\n",
    "\n",
    "In Python, we do this with *assignment statements*. An assignment statement has a name on the left side of an `=` sign and an expression to be evaluated on the right."
   ]
  },
  {
   "cell_type": "code",
   "execution_count": null,
   "metadata": {
    "id": "3221xVOLn88c"
   },
   "outputs": [],
   "source": [
    "ten = 3 * 2 + 4"
   ]
  },
  {
   "cell_type": "markdown",
   "metadata": {
    "id": "yCkLyv7bn88d"
   },
   "source": [
    "When you run that cell, Python first evaluates the first line.  It computes the value of the expression `3 * 2 + 4`, which is the number 10.  Then it gives that value the name `ten`.  At that point, the code in the cell is done running.\n",
    "\n",
    "After you run that cell, the value 10 is bound to the name `ten`:"
   ]
  },
  {
   "cell_type": "code",
   "execution_count": null,
   "metadata": {
    "colab": {
     "base_uri": "https://localhost:8080/"
    },
    "id": "TDKj9LHXn88d",
    "outputId": "951da3d3-ae87-4be6-d59a-4f853cd5c266"
   },
   "outputs": [],
   "source": [
    "ten"
   ]
  },
  {
   "cell_type": "markdown",
   "metadata": {
    "id": "5kN9DR_Rn88d"
   },
   "source": [
    "The statement `ten = 3 * 2 + 4` is not asserting that `ten` is already equal to `3 * 2 + 4`, as we might expect by analogy with math notation.  Rather, that line of code changes what `ten` means; it now refers to the value 10, whereas before it meant nothing at all.\n",
    "\n",
    "If the designers of Python had been ruthlessly pedantic, they might have made us write\n",
    "\n",
    "    define the name ten to hereafter have the value of 3 * 2 + 4\n",
    "\n",
    "instead.  You will probably appreciate the brevity of \"`=`\"!  But keep in mind that this is the real meaning.\n",
    "\n",
    "**Question 3.1.** Try writing code that uses a name (like `eleven`) that hasn't been assigned to anything.  You'll see an error!"
   ]
  },
  {
   "cell_type": "code",
   "execution_count": null,
   "metadata": {
    "id": "OKirSBCGn88d"
   },
   "outputs": [],
   "source": []
  },
  {
   "cell_type": "markdown",
   "metadata": {
    "id": "xpKg3spin88d"
   },
   "source": [
    " A common pattern in Jupyter notebooks is to assign a value to a name and then immediately evaluate the name in the last line in the cell so that the value is displayed as output."
   ]
  },
  {
   "cell_type": "code",
   "execution_count": null,
   "metadata": {
    "colab": {
     "base_uri": "https://localhost:8080/"
    },
    "id": "TKJAZs7en88d",
    "outputId": "8e18734d-be1f-46aa-cf47-3bb60b4648e0"
   },
   "outputs": [],
   "source": [
    "close_to_pi = 355/113\n",
    "close_to_pi"
   ]
  },
  {
   "cell_type": "markdown",
   "metadata": {
    "id": "Vec40uPzn88d"
   },
   "source": [
    "Another common pattern is that a series of lines in a single cell will build up a complex computation in stages, naming the intermediate results."
   ]
  },
  {
   "cell_type": "code",
   "execution_count": null,
   "metadata": {
    "colab": {
     "base_uri": "https://localhost:8080/"
    },
    "id": "TCn-4UMun88d",
    "outputId": "0bd24ce4-1462-413e-81d6-a0c53576c146"
   },
   "outputs": [],
   "source": [
    "bimonthly_salary = 840\n",
    "monthly_salary = 2 * bimonthly_salary\n",
    "number_of_months_in_a_year = 12\n",
    "yearly_salary = number_of_months_in_a_year * monthly_salary\n",
    "yearly_salary"
   ]
  },
  {
   "cell_type": "markdown",
   "metadata": {
    "id": "IczQyPapn88d"
   },
   "source": [
    "Names in Python can have letters (upper- and lower-case letters are both okay and count as different letters), underscores, and numbers.  The first character can't be a number (otherwise a name might look like a number).  And names can't contain spaces, since spaces are used to separate pieces of code from each other.\n",
    "\n",
    "Other than those rules, what you name something doesn't matter *to Python*.  For example, this cell does the same thing as the above cell, except everything has a different name:"
   ]
  },
  {
   "cell_type": "code",
   "execution_count": null,
   "metadata": {
    "colab": {
     "base_uri": "https://localhost:8080/"
    },
    "id": "kpNU2hhZn88e",
    "outputId": "b82d58ea-10b6-455e-e82b-438a445cfe45"
   },
   "outputs": [],
   "source": [
    "a = 840\n",
    "b = 2 * a\n",
    "c = 12\n",
    "d = c * b\n",
    "d"
   ]
  },
  {
   "cell_type": "markdown",
   "metadata": {
    "id": "BSWPelURn88e"
   },
   "source": [
    "**However**, names are very important for making your code *readable* to yourself and others.  The cell above is shorter, but it's totally useless without an explanation of what it does.\n",
    "\n",
    "According to a famous joke among computer scientists, naming things is one of the two hardest problems in computer science.  (The other two are cache invalidation and \"off-by-one\" errors.  And people say computer scientists have an odd sense of humor...)"
   ]
  },
  {
   "cell_type": "markdown",
   "metadata": {
    "id": "4AgPk62on88e"
   },
   "source": [
    "**Question 3.2.** Assign the name `seconds_in_a_decade` to the number of seconds between midnight January 1, 2010 and midnight January 1, 2020.\n",
    "\n"
   ]
  },
  {
   "cell_type": "code",
   "execution_count": null,
   "metadata": {
    "colab": {
     "base_uri": "https://localhost:8080/"
    },
    "id": "Al2qA_sQn88e",
    "outputId": "e61ac013-e5bb-4ee4-a728-56648e86fa09"
   },
   "outputs": [],
   "source": [
    "# Change the next line so that it computes the number of\n",
    "# seconds in a decade and assigns that number the name\n",
    "# seconds_in_a_decade.\n",
    "seconds_in_a_decade = ...\n",
    "\n",
    "# We've put this line in this cell so that it will print\n",
    "# the value you've given to seconds_in_a_decade when you\n",
    "# run it.  You don't need to change this.\n",
    "seconds_in_a_decade"
   ]
  },
  {
   "cell_type": "markdown",
   "metadata": {
    "id": "qX3aF6pUn88e"
   },
   "source": [
    "## 3.1. Comments\n",
    "You may have noticed this line in the cell above:\n",
    "\n",
    "    # Change the next line so that it computes the number of\n",
    "\n",
    "That is called a *comment*.  It doesn't make anything happen in Python; Python ignores anything on a line after a #.  Instead, it's there to communicate something about the code to you, the human reader.  Comments are extremely useful.\n",
    "\n",
    "<img src=\"http://imgs.xkcd.com/comics/future_self.png\">"
   ]
  },
  {
   "cell_type": "markdown",
   "metadata": {
    "id": "v12r05pun88e"
   },
   "source": [
    "## 3.2. Application: A physics experiment\n",
    "\n",
    "On the Apollo 15 mission to the Moon, astronaut David Scott famously replicated Galileo's physics experiment in which he showed that gravity accelerates objects of different mass at the same rate. Because there is no air resistance for a falling object on the surface of the Moon, even two objects with very different masses and densities should fall at the same rate. David Scott compared a feather and a hammer.\n",
    "\n",
    "You can run the following cell to watch a video of the experiment."
   ]
  },
  {
   "cell_type": "code",
   "execution_count": null,
   "metadata": {
    "colab": {
     "base_uri": "https://localhost:8080/",
     "height": 321
    },
    "id": "ZdAP3gSVn88e",
    "outputId": "ff2d4822-b926-447a-96b3-121091c1efa5"
   },
   "outputs": [],
   "source": [
    "from IPython.display import YouTubeVideo\n",
    "# The original URL is:\n",
    "#   https://www.youtube.com/watch?v=U7db6ZeLR5s\n",
    "YouTubeVideo(\"U7db6ZeLR5s\")"
   ]
  },
  {
   "cell_type": "markdown",
   "metadata": {
    "id": "Phr-B5ePn88e"
   },
   "source": [
    "Here's the transcript of the video:\n",
    "\n",
    "**167:22:06 Scott**: Well, in my left hand, I have a feather; in my right hand, a hammer. And I guess one of the reasons we got here today was because of a gentleman named Galileo, a long time ago, who made a rather significant discovery about falling objects in gravity fields. And we thought where would be a better place to confirm his findings than on the Moon. And so we thought we'd try it here for you. The feather happens to be, appropriately, a falcon feather for our Falcon. And I'll drop the two of them here and, hopefully, they'll hit the ground at the same time.\n",
    "\n",
    "**167:22:43 Scott**: How about that!\n",
    "\n",
    "**167:22:45 Allen**: How about that! (Applause in Houston)\n",
    "\n",
    "**167:22:46 Scott**: Which proves that Mr. Galileo was correct in his findings."
   ]
  },
  {
   "cell_type": "markdown",
   "metadata": {
    "id": "KpvW_AMXn88e"
   },
   "source": [
    "**Newton's Law.** Using this footage, we can also attempt to confirm another famous bit of physics: Newton's law of universal gravitation. Newton's laws predict that any object dropped near the surface of the Moon should fall\n",
    "\n",
    "$$\\frac{1}{2} G \\frac{M}{R^2} t^2 \\text{ meters}$$\n",
    "\n",
    "after $t$ seconds, where $G$ is a universal constant, $M$ is the moon's mass in kilograms, and $R$ is the moon's radius in meters.  So if we know $G$, $M$, and $R$, then Newton's laws let us predict how far an object will fall over any amount of time.\n",
    "\n",
    "To verify the accuracy of this law, we will calculate the difference between the predicted distance the hammer drops and the actual distance.  (If they are different, it might be because Newton's laws are wrong, or because our measurements are imprecise, or because there are other factors affecting the hammer for which we haven't accounted.)\n",
    "\n",
    "Someone studied the video and estimated that the hammer was dropped 113 cm from the surface. Counting frames in the video, the hammer falls for 1.2 seconds (36 frames)."
   ]
  },
  {
   "cell_type": "markdown",
   "metadata": {
    "id": "e0ajOjFXn88f"
   },
   "source": [
    "**Question 3.3.1.** Complete the code in the next cell to fill in the *data* from the experiment."
   ]
  },
  {
   "cell_type": "code",
   "execution_count": null,
   "metadata": {
    "id": "kAfOPJ_Zn88f"
   },
   "outputs": [],
   "source": [
    "# t, the duration of the fall in the experiment, in seconds.\n",
    "# Fill this in.\n",
    "time = 1.2\n",
    "\n",
    "# The estimated distance the hammer actually fell, in meters.\n",
    "# Fill this in.\n",
    "estimated_distance_m = 113"
   ]
  },
  {
   "cell_type": "markdown",
   "metadata": {
    "id": "bFvvLzIMn88f"
   },
   "source": [
    "**Question 3.3.2.** Now, complete the code in the next cell to compute the difference between the predicted and estimated distances (in meters) that the hammer fell in this experiment.\n",
    "\n",
    "This just means translating the formula above ($\\frac{1}{2}G\\frac{M}{R^2}t^2$) into Python code.  You'll have to replace each variable in the math formula with the name we gave that number in Python code."
   ]
  },
  {
   "cell_type": "code",
   "execution_count": null,
   "metadata": {
    "colab": {
     "base_uri": "https://localhost:8080/"
    },
    "id": "V0dzW9xcn88f",
    "outputId": "2a4987bc-71f7-4c8f-9d66-1e518ca6066e"
   },
   "outputs": [],
   "source": [
    "# First, we've written down the values of the 3 universal\n",
    "# constants that show up in Newton's formula.\n",
    "\n",
    "# G, the universal constant measuring the strength of gravity.\n",
    "gravity_constant = 6.674 * 10**-11\n",
    "\n",
    "# M, the moon's mass, in kilograms.\n",
    "moon_mass_kg = 7.34767309 * 10**22\n",
    "\n",
    "# R, the radius of the moon, in meters.\n",
    "moon_radius_m = 1.737 * 10**6\n",
    "\n",
    "# The distance the hammer should have fallen over the\n",
    "# duration of the fall, in meters, according to Newton's\n",
    "# law of gravity.  The text above describes the formula\n",
    "# for this distance given by Newton's law.\n",
    "# **YOU FILL THIS PART IN.**\n",
    "predicted_distance_m = ...\n",
    "\n",
    "# Here we've computed the difference between the predicted\n",
    "# fall distance and the distance we actually measured.\n",
    "# If you've filled in the above code, this should just work.\n",
    "difference = predicted_distance_m - estimated_distance_m\n",
    "difference"
   ]
  },
  {
   "cell_type": "markdown",
   "metadata": {
    "id": "cJxi0NIqn88f"
   },
   "source": [
    "# 4. Lists\n",
    "\n",
    "It is very convenient, including in machine learning, to want to structure data. The most basic data structure in Python is the sequence. Each element of a sequence is assigned a number - its position or index. The first index is zero, the second index is one, and so forth.\n",
    "One of the most common and important sequences is the List."
   ]
  },
  {
   "cell_type": "code",
   "execution_count": null,
   "metadata": {
    "id": "aUGMXib0n88f"
   },
   "outputs": [],
   "source": [
    "# Creating a list is as simple as putting different comma-separated values between square brackets.\n",
    "\n",
    "list1 = ['physics', 'chemistry', 1997, 2000];\n",
    "list2 = [1, 2, 3, 4, 5 ];\n",
    "list3 = [\"a\", \"b\", \"c\", \"d\"]"
   ]
  },
  {
   "cell_type": "code",
   "execution_count": null,
   "metadata": {
    "colab": {
     "base_uri": "https://localhost:8080/"
    },
    "id": "jO1ndnIkn88f",
    "outputId": "2d42c840-89ff-43f9-de2b-bee618c07696"
   },
   "outputs": [],
   "source": [
    "# To access values in lists, use the square brackets with the index to obtain value available at that index\n",
    "# Watch out ! In Python, indices start at 0.\n",
    "\n",
    "print(list1[0])\n",
    "print(list2[3])\n",
    "\n",
    "# You can also access a range of values with \"slicing\", specifying start and end indices, separating by a colon\n",
    "\n",
    "print(list3[2:4])"
   ]
  },
  {
   "cell_type": "markdown",
   "metadata": {
    "id": "g6pPVp48n88f"
   },
   "source": [
    "# 5. Control Flow\n",
    "\n",
    "In the programs we have seen until now, there has always been a series of statements faithfully executed by Python in exact top-down order. What if you wanted to change the flow of how it works?\n"
   ]
  },
  {
   "cell_type": "markdown",
   "metadata": {
    "id": "kJh_urorn88f"
   },
   "source": [
    "## 5.1 For loop\n",
    "\n",
    "The for loop is very convenient if, for example, you want to perform repeated operations on a series of numbers. It allows you to automate this, rather than writing everything one by one."
   ]
  },
  {
   "cell_type": "code",
   "execution_count": null,
   "metadata": {
    "colab": {
     "base_uri": "https://localhost:8080/"
    },
    "id": "3iUSIrIDn88f",
    "outputId": "8e0aae9a-9604-41d1-efa8-0fefd88b79a9"
   },
   "outputs": [],
   "source": [
    "# Let's say we want to double each number in the following list and print it.\n",
    "\n",
    "a_list = [5, 10, 7, 3.5, 9]\n",
    "b_list= ['hi', 'hello', 'bye']\n",
    "\n",
    "# We could simply write\n",
    "\n",
    "print('MANUAL entry')\n",
    "print(2 * a_list[0])\n",
    "print(2 * a_list[1])\n",
    "print(2* a_list[2])\n",
    "print(2 * a_list[3])\n",
    "# etc...\n",
    "\n",
    "# But imagine if the list contains thousands of numbers !\n",
    "# This can be very conveniently done with a for loop.\n",
    "# Notice how the syntax is similar to spoken english, which is one of the beauties of Python.\n",
    "\n",
    "print('automated using for loop')\n",
    "for i in b_list:\n",
    "    print(2 * i)\n",
    "    print('Dubai is great!')"
   ]
  },
  {
   "cell_type": "markdown",
   "metadata": {
    "id": "xceBv3OTn88f"
   },
   "source": [
    "## 5.2 If statement\n",
    "\n",
    "This control flow is central to programming. It allows you to perform different operations depending on what happens in the program.\n",
    "\n",
    "This can be for basic arithmetic\n",
    "\"If the variable if greater than 10, double it. Else, add 2 to it.\"\n",
    "\n",
    "\n",
    "But it's the same idea for very advanced applications like self driving cars\n",
    "\"If there is a pedestrian, stop. Else, keep driving. \""
   ]
  },
  {
   "cell_type": "code",
   "execution_count": null,
   "metadata": {
    "colab": {
     "base_uri": "https://localhost:8080/"
    },
    "id": "dxFnO4YQn88f",
    "outputId": "1272b918-5e27-467e-8285-976dc9fb490a"
   },
   "outputs": [],
   "source": [
    "### Perform different arithmetic operations depending on the value of x.\n",
    "\n",
    "# Notice the basic equality conditions:\n",
    "# x greater than z: x > z (greater than or equal is >=)\n",
    "# x smaller than z: x < z (smaller than or equal is <=)\n",
    "# x equals to z: x == z\n",
    "\n",
    "# Change the value of x to see how the value of y is impacted.\n",
    "x = 25\n",
    "\n",
    "if (x >= 50):\n",
    "\n",
    "    y = 2 * x\n",
    "\n",
    "elif (x == 10):\n",
    "\n",
    "    y = x + 6\n",
    "\n",
    "else:\n",
    "    y = -x\n",
    "\n",
    "print(y)\n"
   ]
  },
  {
   "cell_type": "markdown",
   "metadata": {
    "id": "jrMyF2u_n88g"
   },
   "source": [
    "# 6. Functions\n",
    "## 6.1 Calling Functions\n",
    "\n",
    "The most common way to combine or manipulate values in Python is by calling functions. Python comes with many built-in functions that perform common operations.\n",
    "\n",
    "For example, the `abs` function takes a single number as its argument and returns the absolute value of that number.  The absolute value of a number is its distance from 0 on the number line, so `abs(5)` is 5 and `abs(-5)` is also 5."
   ]
  },
  {
   "cell_type": "code",
   "execution_count": null,
   "metadata": {
    "colab": {
     "base_uri": "https://localhost:8080/"
    },
    "id": "QnHpdjkLn88g",
    "outputId": "5a562611-1f3e-4813-ab7a-6154f20e6b0d"
   },
   "outputs": [],
   "source": [
    "abs(5)"
   ]
  },
  {
   "cell_type": "code",
   "execution_count": null,
   "metadata": {
    "colab": {
     "base_uri": "https://localhost:8080/"
    },
    "id": "wczL8RKQn88g",
    "outputId": "db6ad8bf-bbe9-4121-ffa2-13fc9693ce68"
   },
   "outputs": [],
   "source": [
    "abs(-5000)"
   ]
  },
  {
   "cell_type": "markdown",
   "metadata": {
    "id": "CTyxam-7n88g"
   },
   "source": [
    "## 6.2 Defining functions\n",
    "\n",
    "You could also define your own functions to perform a set of operations. Defining functions involves using the `def` keyword."
   ]
  },
  {
   "cell_type": "code",
   "execution_count": null,
   "metadata": {
    "colab": {
     "base_uri": "https://localhost:8080/"
    },
    "id": "NTbhD7Dpn88g",
    "outputId": "5f782bc4-2aec-4cab-bed9-2dcacc5e29a2"
   },
   "outputs": [],
   "source": [
    "# For example, we define a multiplication function as follows:\n",
    "def multiplication(x, y, z, m, k):\n",
    "    return x * y + m + k\n",
    "\n",
    "# And then the function can be called using its name and by providing its input:\n",
    "print(multiplication(2, 3, 4, 5, 8))"
   ]
  },
  {
   "cell_type": "markdown",
   "metadata": {
    "id": "9IB0QKg9n88g"
   },
   "source": [
    "**Question 6.2.1** Define a function that takes the height and width of an object, and returns its perimeter as an output. Test your function to calculate the perimeter of The Dubai Frame."
   ]
  },
  {
   "cell_type": "code",
   "execution_count": null,
   "metadata": {
    "id": "P9QuIN9Un88g"
   },
   "outputs": [],
   "source": [
    "\n"
   ]
  },
  {
   "cell_type": "markdown",
   "metadata": {
    "id": "jWc6c6r1n88g"
   },
   "source": [
    "# 7. Classes\n",
    "\n",
    "Python supports the programming paradigm called Object Oriented Programming. It allows you to define \"real world\" objects, their behavior, and the way they interact with each other. This makes coding very intuitive and natural, as we can replicate the world we experience around us.\n",
    "The great thing about classes is that once you've implemented the class cat (see below), you can reuse it and create as many objects (cats) as you want."
   ]
  },
  {
   "cell_type": "code",
   "execution_count": null,
   "metadata": {
    "id": "aaVrlwq5n88g"
   },
   "outputs": [],
   "source": [
    "class cat:\n",
    "    # The __init__ function is the most important one for a class,\n",
    "    # without which it would not work.\n",
    "    # This function gets called when you create an object of this class (like in the cell below),\n",
    "    # and it assigns the parameters to the object\n",
    "\n",
    "    # Pre-defined methods\n",
    "    def __init__(self, n, a):\n",
    "        # Notice how the keyword 'self' appears in every function:\n",
    "        # this simply refers to the object itself, to which we for example can assign\n",
    "        # parameters, like the way we assign the name below\n",
    "        self.name = n\n",
    "        self.age = a\n",
    "        self.legs = 4\n",
    "\n",
    "    def __repr__(self):\n",
    "        # The __repr__ function is useful, as it allows you to call 'print' on your object,\n",
    "        # and output any sentence you want\n",
    "        return \"This is a cat, his name is \" + self.name\n",
    "\n",
    "    # Custom functions\n",
    "    def meow(self):\n",
    "        # Besides a few predefined functions such as __init__ and __repr__\n",
    "        # you can define ANY function you want, to define behaviour for your class.\n",
    "        # For instance, a cat will meow and eat, or a car will turn.\n",
    "        print(\"MEOOOOW\")\n",
    "\n",
    "    def eat(self, cat_food):\n",
    "        # A beautiful thing about objects, is that they can interact with each other.\n",
    "        # Here, the cat interacts with an object 'catFood' (defined below), and can\n",
    "        # modify ther attributes.\n",
    "        if (cat_food.num_chunks>0):\n",
    "            cat_food.num_chunks -= 1\n",
    "        else:\n",
    "            print (\"No more food :(\")\n",
    "\n",
    "class catFood:\n",
    "    def __init__(self, num_chunks):\n",
    "        self.num_chunks = num_chunks\n",
    "\n",
    "    def __repr__(self):\n",
    "        return \"There is \" + str(self.num_chunks) + \" chunks of cat food\""
   ]
  },
  {
   "cell_type": "code",
   "execution_count": null,
   "metadata": {
    "id": "5PT6AMojn88h"
   },
   "outputs": [],
   "source": [
    "Cookie_the_cat = cat(n = \"Cookie\", a = 10)"
   ]
  },
  {
   "cell_type": "code",
   "execution_count": null,
   "metadata": {
    "colab": {
     "base_uri": "https://localhost:8080/"
    },
    "id": "ZE1SwViXn88h",
    "outputId": "34b0f419-7bd3-4999-f2b8-9cf148f00a44"
   },
   "outputs": [],
   "source": [
    "Cookie_the_cat.meow()"
   ]
  },
  {
   "cell_type": "code",
   "execution_count": null,
   "metadata": {
    "id": "rhymMrJbn88h"
   },
   "outputs": [],
   "source": [
    "food = catFood(num_chunks=2)"
   ]
  },
  {
   "cell_type": "code",
   "execution_count": null,
   "metadata": {
    "id": "Dfr81Rlin88h"
   },
   "outputs": [],
   "source": [
    "Cookie_the_cat.eat(food)"
   ]
  },
  {
   "cell_type": "code",
   "execution_count": null,
   "metadata": {
    "colab": {
     "base_uri": "https://localhost:8080/",
     "height": 207
    },
    "id": "CTQd9Mwjn88h",
    "outputId": "7a3a4809-2aed-4a29-e124-4cd97152262a"
   },
   "outputs": [],
   "source": [
    "\n",
    "\n",
    "Bob_the_cat = cat(n = 'Bob', a = 2)\n",
    "food = catFood(num_chunks = 100)\n",
    "\n",
    "### Note: we have defined a class, and this class has methods (or functions) to define its behavior\n",
    "### How do we call the functions of an object? Simply object.function()\n",
    "### /!\\ You don't need to include the 'self' argument.\n",
    "\n",
    "Cookie_the_cat.meow()\n",
    "\n",
    "### Another cool thing about objects, is that you can change their variables after you've defined them !\n",
    "\n",
    "print(\"The cat is \" + str(Cookie_the_cat.age) + ' years old')\n",
    "\n",
    "Cookie_the_cat.age = 4 # You can modify this\n",
    "\n",
    "print(\"Now he cat is \" + str(Cookie_the_cat.age) + ' years old')\n"
   ]
  },
  {
   "cell_type": "markdown",
   "metadata": {
    "id": "RSTNbET2n88h"
   },
   "source": [
    "** Question ** Print the number of chunks of cat food. Note that the class 'catFood' has the method '__repr__', so you can call print() directly on an object of the class catFood.\n",
    "Make Cookie eat some food, then print the number of chunks again."
   ]
  },
  {
   "cell_type": "code",
   "execution_count": null,
   "metadata": {
    "id": "GnSa1aAzqzDJ"
   },
   "outputs": [],
   "source": []
  },
  {
   "cell_type": "markdown",
   "metadata": {},
   "source": [
    "# 8. Dataframes\n",
    "A pandas DataFrame is a two-dimensional, labeled data structure commonly used for data manipulation and analysis in Python. It resembles a table or spreadsheet with rows and columns, where each column can have a different data type.\n",
    "\n",
    "This uses the library \"Pandas\" and so it needs to be imported at the start."
   ]
  },
  {
   "cell_type": "code",
   "execution_count": null,
   "metadata": {},
   "outputs": [],
   "source": [
    "# Import necessary libraries\n",
    "import pandas as pd\n",
    "\n",
    "# Creating a dataframe using pandas\n",
    "data = {'Name': ['Alice', 'Bob', 'Charlie', 'David'],\n",
    "        'Age': [25, 30, 35, 40]}\n",
    "df = pd.DataFrame(data)\n",
    "print(\"DataFrame:\")\n",
    "print(df)\n"
   ]
  },
  {
   "cell_type": "code",
   "execution_count": null,
   "metadata": {},
   "outputs": [],
   "source": [
    "# Write DataFrame to CSV file\n",
    "df.to_csv('data.csv', index=False)\n",
    "\n",
    "print(\"CSV file written successfully.\")"
   ]
  },
  {
   "cell_type": "markdown",
   "metadata": {},
   "source": [
    "Dataframes are a great way of storing and manipulating data, but the first hurdle is getting the data into a dataframe initially.\n",
    "\n",
    "\n",
    "One way of doing this is from a list.\n",
    "\n",
    "Remember that list we made earlier? That was a simple list of numbers. Each item in a list can in fact be another list. The example below shows how this can be a useful thing to do:"
   ]
  },
  {
   "cell_type": "code",
   "execution_count": null,
   "metadata": {},
   "outputs": [],
   "source": [
    "data_list = [['Alice', 25], ['Bob', 30], ['Charlie', 35], ['David', 40]]\n",
    "print(\"Data list:\", data_list)"
   ]
  },
  {
   "cell_type": "markdown",
   "metadata": {},
   "source": [
    "We can now populate a dataframe using this list:"
   ]
  },
  {
   "cell_type": "code",
   "execution_count": null,
   "metadata": {},
   "outputs": [],
   "source": [
    "# Filling a dataframe from a list\n",
    "df_from_list = pd.DataFrame(data_list, columns=['Name', 'Age'])\n",
    "print(\"DataFrame from list:\")\n",
    "print(df_from_list)"
   ]
  },
  {
   "cell_type": "markdown",
   "metadata": {},
   "source": [
    "Another way of populating a dataframe is from a CSV file. Here we'll use the one we made earlier:"
   ]
  },
  {
   "cell_type": "code",
   "execution_count": null,
   "metadata": {},
   "outputs": [],
   "source": [
    "# Filling a dataframe from a csv file\n",
    "df_from_csv = pd.read_csv('data.csv')\n",
    "print(\"DataFrame from CSV:\")\n",
    "print(df_from_csv)"
   ]
  },
  {
   "cell_type": "markdown",
   "metadata": {},
   "source": [
    "A useful feature of a pandas dataframe is the ability to create data summaries. Here's an example of this:"
   ]
  },
  {
   "cell_type": "code",
   "execution_count": null,
   "metadata": {},
   "outputs": [],
   "source": [
    "# Summary data from a dataframe (.mean, .min, .describe etc.)\n",
    "print(\"Mean Age:\", df['Age'].mean())\n",
    "print(\"Minimum Age:\", df['Age'].min())\n",
    "print(\"Description:\")\n",
    "print(df.describe())"
   ]
  },
  {
   "cell_type": "markdown",
   "metadata": {},
   "source": [
    "# 9. Plotting data\n",
    "Data from a dataframe can be plotted to present the data in a human readable way for analysis.\n",
    "\n",
    "A good library for this is MatPlotLib. We generate the data here using a library called Numpy:"
   ]
  },
  {
   "cell_type": "code",
   "execution_count": null,
   "metadata": {},
   "outputs": [],
   "source": [
    "import matplotlib.pyplot as plt\n",
    "import numpy as np\n",
    "\n",
    "# Generate data\n",
    "t = np.arange(0.0, 2.0, 0.01) #This produces a list which ranges from the number 0.0 to 2.0 in steps of 0.01\n",
    "s = np.sin(2 * np.pi * t)\n",
    "\n",
    "# Create a DataFrame\n",
    "df = pd.DataFrame({'Time (s)': t, 'Voltage (mV)': s})\n",
    "\n",
    "# Plotting\n",
    "fig, ax = plt.subplots()\n",
    "df.plot(x='Time (s)', y='Voltage (mV)', ax=ax)\n",
    "\n",
    "# Set labels and title\n",
    "ax.set(xlabel='Time (s)', ylabel='Voltage (mV)', title='Simple Sine Wave')\n",
    "\n",
    "# Add grid\n",
    "ax.grid()\n",
    "\n",
    "plt.show()"
   ]
  },
  {
   "cell_type": "code",
   "execution_count": null,
   "metadata": {},
   "outputs": [],
   "source": [
    "import random # We use this library for making random numbers to make our data look interesting\n",
    "\n",
    "# Generate random ages for 50 students\n",
    "random.seed(0)  # For reproducibility\n",
    "ages = [random.randint(18, 24) for _ in range(50)]\n",
    "\n",
    "# Create a DataFrame with the generated ages\n",
    "data = {'Name': [f\"Student {i}\" for i in range(1, 51)],\n",
    "        'Age': ages}\n",
    "df = pd.DataFrame(data)\n",
    "\n",
    "# Histogram\n",
    "df['Age'].plot(kind='hist', bins=7, edgecolor='black', alpha=0.7)\n",
    "plt.title('Age Distribution')\n",
    "plt.xlabel('Age')\n",
    "plt.ylabel('Frequency')\n",
    "plt.grid(True)  # Add grid lines\n",
    "plt.tight_layout()  # Adjust layout\n",
    "plt.show()"
   ]
  },
  {
   "cell_type": "markdown",
   "metadata": {},
   "source": [
    "# 10. Your first machine learning algorithm!\n",
    "\n",
    "The cells below show you how simple it is to use the SKLearn library to both create data, and then run a k-means clustering algorithm on the data to predict clusters."
   ]
  },
  {
   "cell_type": "code",
   "execution_count": null,
   "metadata": {},
   "outputs": [],
   "source": [
    "from sklearn.datasets import make_blobs\n",
    "from sklearn.cluster import KMeans\n",
    "\n",
    "# Generating 2D data using sklearn 'blobs'\n",
    "X, _ = make_blobs(n_samples=300, centers=4, cluster_std=0.60, random_state=0)\n",
    "plt.scatter(X[:, 0], X[:, 1], s=50)\n",
    "plt.title('Generated Data')\n",
    "plt.xlabel('X')\n",
    "plt.ylabel('Y')\n",
    "plt.show()"
   ]
  },
  {
   "cell_type": "code",
   "execution_count": null,
   "metadata": {},
   "outputs": [],
   "source": [
    "# Clustering of the data using sklearn k-means\n",
    "kmeans = KMeans(n_clusters=4)\n",
    "kmeans.fit(X)\n",
    "y_kmeans = kmeans.predict(X)\n",
    "plt.scatter(X[:, 0], X[:, 1], c=y_kmeans, s=50, cmap='viridis')\n",
    "centers = kmeans.cluster_centers_\n",
    "plt.scatter(centers[:, 0], centers[:, 1], c='red', s=200, alpha=0.5)\n",
    "plt.title('Clustering Results')\n",
    "plt.xlabel('X')\n",
    "plt.ylabel('Y')\n",
    "plt.show()"
   ]
  }
 ],
 "metadata": {
  "anaconda-cloud": {},
  "colab": {
   "provenance": []
  },
  "kernelspec": {
   "display_name": "Python 3",
   "language": "python",
   "name": "python3"
  },
  "language_info": {
   "codemirror_mode": {
    "name": "ipython",
    "version": 3
   },
   "file_extension": ".py",
   "mimetype": "text/x-python",
   "name": "python",
   "nbconvert_exporter": "python",
   "pygments_lexer": "ipython3",
   "version": "3.6.8"
  },
  "nbTranslate": {
   "displayLangs": [
    "*"
   ],
   "hotkey": "alt-t",
   "langInMainMenu": true,
   "sourceLang": "en",
   "targetLang": "fr",
   "useGoogleTranslate": true
  }
 },
 "nbformat": 4,
 "nbformat_minor": 1
}
