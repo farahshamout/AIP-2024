{
  "cells": [
    {
      "cell_type": "markdown",
      "metadata": {
        "id": "4b9Hj_gXbIAq"
      },
      "source": [
        "# Detecting and fixing missing values in data"
      ]
    },
    {
      "cell_type": "code",
      "execution_count": null,
      "metadata": {
        "id": "1B5iShtxbIA0"
      },
      "outputs": [],
      "source": [
        "import pandas as pd\n",
        "import numpy as np"
      ]
    },
    {
      "cell_type": "markdown",
      "metadata": {
        "id": "cmSYmzUhbIA3"
      },
      "source": [
        "Create a set of data with a few missing (NaN) values"
      ]
    },
    {
      "cell_type": "code",
      "execution_count": null,
      "metadata": {
        "id": "8AhWbYK1bIA4"
      },
      "outputs": [],
      "source": [
        "df = pd.DataFrame(np.random.randn(5,5))\n",
        "df[df > 0.9] = pd.np.nan\n",
        "print(df)"
      ]
    },
    {
      "cell_type": "markdown",
      "metadata": {
        "id": "UC3ZbyThbIA5"
      },
      "source": [
        "Use Python code to detect if missing values exist"
      ]
    },
    {
      "cell_type": "code",
      "execution_count": null,
      "metadata": {
        "id": "MoBCouOdbIA6"
      },
      "outputs": [],
      "source": [
        "print(df.isnull())"
      ]
    },
    {
      "cell_type": "markdown",
      "metadata": {
        "id": "6QMNYUFPbIA7"
      },
      "source": [
        "That isn't very easy to read .. so maybe better to get a summary of missing data for each column"
      ]
    },
    {
      "cell_type": "code",
      "execution_count": null,
      "metadata": {
        "id": "VvUl3SGXbIA8"
      },
      "outputs": [],
      "source": [
        "print(df.isnull().sum())"
      ]
    },
    {
      "cell_type": "markdown",
      "metadata": {
        "id": "8rIWV3mXbIA9"
      },
      "source": [
        "Or even a total count of missing data for the whole data set"
      ]
    },
    {
      "cell_type": "code",
      "execution_count": null,
      "metadata": {
        "id": "onIJB58rbIA-"
      },
      "outputs": [],
      "source": [
        "print(df.isnull().sum().sum())"
      ]
    },
    {
      "cell_type": "markdown",
      "metadata": {
        "id": "ZJmFPXTZbIBA"
      },
      "source": [
        "## Fixing missing data by subsituting in zeros ..."
      ]
    },
    {
      "cell_type": "code",
      "execution_count": null,
      "metadata": {
        "id": "zR86nFs5bIBB"
      },
      "outputs": [],
      "source": [
        "df.fillna(0, inplace=True)\n",
        "print(df)"
      ]
    },
    {
      "cell_type": "markdown",
      "metadata": {
        "id": "C89z-ZyXbIBC"
      },
      "source": [
        "## Fixing missing data by subsituting with the average of a column"
      ]
    },
    {
      "cell_type": "markdown",
      "metadata": {
        "id": "XPSK3SdibIBD"
      },
      "source": [
        "Create some more data"
      ]
    },
    {
      "cell_type": "code",
      "execution_count": null,
      "metadata": {
        "id": "sN5aJqxVbIBD"
      },
      "outputs": [],
      "source": [
        "df = pd.DataFrame(np.random.randn(5,5))\n",
        "df[df > 0.9] = pd.np.nan\n",
        "print(df)"
      ]
    },
    {
      "cell_type": "code",
      "execution_count": null,
      "metadata": {
        "id": "Oe5FhfkEbIBE"
      },
      "outputs": [],
      "source": [
        "df[1].fillna(df[1].mean(), inplace = True)\n",
        "print(df)"
      ]
    },
    {
      "cell_type": "code",
      "execution_count": null,
      "metadata": {
        "id": "AlrCX97cbIBE"
      },
      "outputs": [],
      "source": []
    }
  ],
  "metadata": {
    "kernelspec": {
      "display_name": "Python 3",
      "language": "python",
      "name": "python3"
    },
    "language_info": {
      "codemirror_mode": {
        "name": "ipython",
        "version": 3
      },
      "file_extension": ".py",
      "mimetype": "text/x-python",
      "name": "python",
      "nbconvert_exporter": "python",
      "pygments_lexer": "ipython3",
      "version": "3.6.8"
    },
    "colab": {
      "provenance": []
    }
  },
  "nbformat": 4,
  "nbformat_minor": 0
}