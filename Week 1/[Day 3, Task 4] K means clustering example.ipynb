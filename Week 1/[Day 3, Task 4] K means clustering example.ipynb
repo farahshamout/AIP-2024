{
  "nbformat": 4,
  "nbformat_minor": 0,
  "metadata": {
    "kernelspec": {
      "display_name": "Python 3",
      "language": "python",
      "name": "python3"
    },
    "language_info": {
      "codemirror_mode": {
        "name": "ipython",
        "version": 3
      },
      "file_extension": ".py",
      "mimetype": "text/x-python",
      "name": "python",
      "nbconvert_exporter": "python",
      "pygments_lexer": "ipython3",
      "version": "3.6.8"
    },
    "colab": {
      "provenance": []
    }
  },
  "cells": [
    {
      "cell_type": "markdown",
      "metadata": {
        "id": "zwNNwRhlCDHg"
      },
      "source": [
        "# Clustering Customer Data"
      ]
    },
    {
      "cell_type": "markdown",
      "metadata": {
        "id": "4fPxJguMCDHl"
      },
      "source": [
        "Load the required libraries"
      ]
    },
    {
      "cell_type": "code",
      "metadata": {
        "id": "ztIf5DZHCDHm"
      },
      "source": [
        "import pandas as pd\n",
        "from sklearn import preprocessing\n",
        "from sklearn.cluster import KMeans\n",
        "import numpy as np\n",
        "import matplotlib.pyplot as plt"
      ],
      "execution_count": null,
      "outputs": []
    },
    {
      "cell_type": "markdown",
      "metadata": {
        "id": "dFQIphWaCDHn"
      },
      "source": [
        "Get the data"
      ]
    },
    {
      "cell_type": "code",
      "metadata": {
        "id": "jnzva3NqCDHn"
      },
      "source": [
        "customer_data = pd.read_csv(\"Retail_data.csv\")"
      ],
      "execution_count": null,
      "outputs": []
    },
    {
      "cell_type": "code",
      "metadata": {
        "id": "Lu-6Yv7iCDHn"
      },
      "source": [
        "print(customer_data[0:5])"
      ],
      "execution_count": null,
      "outputs": []
    },
    {
      "cell_type": "markdown",
      "metadata": {
        "id": "VI86gylMCDHo"
      },
      "source": [
        "## Clean the Data"
      ]
    },
    {
      "cell_type": "markdown",
      "metadata": {
        "id": "ZLqj9IuVCDHo"
      },
      "source": [
        "Is there any missing data?"
      ]
    },
    {
      "cell_type": "code",
      "metadata": {
        "id": "Trt_1wOQCDHo"
      },
      "source": [
        "print(customer_data.isnull().sum().sum())"
      ],
      "execution_count": null,
      "outputs": []
    },
    {
      "cell_type": "markdown",
      "metadata": {
        "id": "9FWOkjWgCDHp"
      },
      "source": [
        "Convert category data to values"
      ]
    },
    {
      "cell_type": "code",
      "metadata": {
        "id": "tvKaeKPACDHp"
      },
      "source": [
        "column_name = 'Gender'\n",
        "one_hot = pd.get_dummies(customer_data[column_name])\n",
        "customer_data.drop(column_name, axis=1, inplace=True)\n",
        "customer_data=one_hot.join(customer_data)"
      ],
      "execution_count": null,
      "outputs": []
    },
    {
      "cell_type": "code",
      "metadata": {
        "id": "h7gASbzqCDHp"
      },
      "source": [
        "column_name = 'Married'\n",
        "one_hot = pd.get_dummies(customer_data[column_name])\n",
        "customer_data.drop(column_name, axis=1, inplace=True)\n",
        "customer_data=one_hot.join(customer_data)"
      ],
      "execution_count": null,
      "outputs": []
    },
    {
      "cell_type": "code",
      "metadata": {
        "id": "IQ9gTlHgCDHq"
      },
      "source": [
        "print(customer_data[0:5])"
      ],
      "execution_count": null,
      "outputs": []
    },
    {
      "cell_type": "markdown",
      "metadata": {
        "id": "eq1_i87PCDHq"
      },
      "source": [
        "Chart some of the data just to see how it looks"
      ]
    },
    {
      "cell_type": "code",
      "metadata": {
        "id": "pJgf_-nvCDHq"
      },
      "source": [
        "customer_data.plot.scatter('Age', 'Salary')"
      ],
      "execution_count": null,
      "outputs": []
    },
    {
      "cell_type": "markdown",
      "metadata": {
        "id": "FXimvBHzCDHq"
      },
      "source": [
        "Scale (standardize) the data into a standard size"
      ]
    },
    {
      "cell_type": "code",
      "metadata": {
        "id": "tsAVqdOvCDHq"
      },
      "source": [
        "standardized_customer_data = preprocessing.scale(customer_data)\n",
        "standardized_customer_data_df = pd.DataFrame(standardized_customer_data, columns = customer_data.columns)"
      ],
      "execution_count": null,
      "outputs": []
    },
    {
      "cell_type": "markdown",
      "metadata": {
        "id": "3ZKKyb4mCDHr"
      },
      "source": [
        "Take a look at the standardised data"
      ]
    },
    {
      "cell_type": "code",
      "metadata": {
        "id": "MxaXfb3iCDHr"
      },
      "source": [
        "standardized_customer_data_df.plot.scatter('Age', 'Salary')\n"
      ],
      "execution_count": null,
      "outputs": []
    },
    {
      "cell_type": "markdown",
      "metadata": {
        "id": "qHI6_TzfCDHr"
      },
      "source": [
        "Its the same 'shape' .. but different scales"
      ]
    },
    {
      "cell_type": "markdown",
      "metadata": {
        "id": "VEq3PFcCCDHr"
      },
      "source": [
        "## Cluster the data (Build the model)"
      ]
    },
    {
      "cell_type": "code",
      "metadata": {
        "id": "MXXqBilYCDHr"
      },
      "source": [
        "# create kmeans object\n",
        "kmeans = KMeans(n_clusters=4)\n",
        "\n",
        "# fit kmeans object to data\n",
        "kmeans.fit(standardized_customer_data_df)\n",
        "\n",
        "# save new clusters for chart\n",
        "y_km = kmeans.fit_predict(standardized_customer_data_df)"
      ],
      "execution_count": null,
      "outputs": []
    },
    {
      "cell_type": "markdown",
      "metadata": {
        "id": "RVbViDJiCDHs"
      },
      "source": [
        "## Review the Results"
      ]
    },
    {
      "cell_type": "code",
      "metadata": {
        "id": "FXwKwJtZCDHs"
      },
      "source": [
        "print (y_km[0:20])"
      ],
      "execution_count": null,
      "outputs": []
    },
    {
      "cell_type": "markdown",
      "metadata": {
        "id": "MWp5B9uxCDHs"
      },
      "source": [
        "Look at particular clusters of data .. starting with those in group 2"
      ]
    },
    {
      "cell_type": "code",
      "metadata": {
        "id": "VFDSE2utCDHs"
      },
      "source": [
        "print(customer_data[y_km==2][0:10])"
      ],
      "execution_count": null,
      "outputs": []
    },
    {
      "cell_type": "markdown",
      "metadata": {
        "id": "rCTKMOVMCDHs"
      },
      "source": [
        "Look at the clusters in chart form\n",
        "\n",
        ".. First plotting Age Vs Salary"
      ]
    },
    {
      "cell_type": "code",
      "metadata": {
        "id": "sw3DuWlOCDHt"
      },
      "source": [
        "plt.figure(figsize=(10,10))\n",
        "plt.scatter(customer_data[y_km ==0]['Age'], customer_data[y_km == 0]['Salary'], s=15, c='red', alpha=.5)\n",
        "plt.scatter(customer_data[y_km ==1]['Age'], customer_data[y_km == 1]['Salary'], s=15, c='black', alpha=.5)\n",
        "plt.scatter(customer_data[y_km ==2]['Age'], customer_data[y_km == 2]['Salary'], s=15, c='blue', alpha=.5)\n",
        "plt.scatter(customer_data[y_km ==3]['Age'], customer_data[y_km == 3]['Salary'], s=15, c='cyan', alpha=.5)"
      ],
      "execution_count": null,
      "outputs": []
    },
    {
      "cell_type": "markdown",
      "metadata": {
        "id": "YruRd7B7CDHt"
      },
      "source": [
        "Then plot the married status (Single / Married) against their salary"
      ]
    },
    {
      "cell_type": "code",
      "metadata": {
        "id": "8WKXq8IuCDHt"
      },
      "source": [
        "plt.figure(figsize=(7,7))\n",
        "plt.scatter(customer_data[y_km ==0]['Single'], customer_data[y_km == 0]['Salary'], s=15, c='red', alpha=.5)\n",
        "plt.scatter(customer_data[y_km ==1]['Single'], customer_data[y_km == 1]['Salary'], s=15, c='black', alpha=.5)\n",
        "plt.scatter(customer_data[y_km ==2]['Single'], customer_data[y_km == 2]['Salary'], s=15, c='blue', alpha=.5)\n",
        "plt.scatter(customer_data[y_km ==3]['Single'], customer_data[y_km == 3]['Salary'], s=15, c='cyan', alpha=.5)"
      ],
      "execution_count": null,
      "outputs": []
    },
    {
      "cell_type": "markdown",
      "metadata": {
        "id": "mcCggMq2CDHu"
      },
      "source": [
        "Then plot their gender against their salary"
      ]
    },
    {
      "cell_type": "code",
      "metadata": {
        "id": "qWLX_9tECDHu"
      },
      "source": [
        "plt.figure(figsize=(7,7))\n",
        "plt.scatter(customer_data[y_km ==0]['Female'], customer_data[y_km == 0]['Salary'], s=15, c='red', alpha=.5)\n",
        "plt.scatter(customer_data[y_km ==1]['Female'], customer_data[y_km == 1]['Salary'], s=15, c='black', alpha=.5)\n",
        "plt.scatter(customer_data[y_km ==2]['Female'], customer_data[y_km == 2]['Salary'], s=15, c='blue', alpha=.5)\n",
        "plt.scatter(customer_data[y_km ==3]['Female'], customer_data[y_km == 3]['Salary'], s=15, c='cyan', alpha=.5)"
      ],
      "execution_count": null,
      "outputs": []
    },
    {
      "cell_type": "markdown",
      "metadata": {
        "id": "PhYC0ZMpCDHu"
      },
      "source": [
        "We can even take a '3D' view of the data"
      ]
    },
    {
      "cell_type": "code",
      "metadata": {
        "id": "vb50PWTFCDHu"
      },
      "source": [
        "from mpl_toolkits.mplot3d import Axes3D\n",
        "import matplotlib.pyplot as plt"
      ],
      "execution_count": null,
      "outputs": []
    },
    {
      "cell_type": "code",
      "metadata": {
        "id": "iVBjHPWYCDHu"
      },
      "source": [
        "%matplotlib\n",
        "fig = plt.figure(figsize=(10,10))\n",
        "ax = fig.add_subplot(111, projection='3d')\n",
        "ax.view_init(20, 20)\n",
        "ax.set_xlabel('Annual Spend')\n",
        "ax.set_ylabel('Salary')\n",
        "ax.set_zlabel('Age')\n",
        "ax.scatter(customer_data[y_km ==0]['Annual Spend'], customer_data[y_km == 0]['Salary'], customer_data[y_km == 0]['Age'],s=15, c='red', alpha=.3)\n",
        "ax.scatter(customer_data[y_km ==1]['Annual Spend'], customer_data[y_km == 1]['Salary'], customer_data[y_km == 1]['Age'],s=15, c='black', alpha=.3)\n",
        "ax.scatter(customer_data[y_km ==2]['Annual Spend'], customer_data[y_km == 2]['Salary'], customer_data[y_km == 2]['Age'],s=15, c='blue', alpha=.3)\n",
        "ax.scatter(customer_data[y_km ==3]['Annual Spend'], customer_data[y_km == 3]['Salary'], customer_data[y_km == 3]['Age'],s=15, c='cyan', alpha=.3)\n"
      ],
      "execution_count": null,
      "outputs": []
    },
    {
      "cell_type": "code",
      "metadata": {
        "id": "7iY8XwIZCDHv"
      },
      "source": [],
      "execution_count": null,
      "outputs": []
    }
  ]
}