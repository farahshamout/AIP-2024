{
 "cells": [
  {
   "cell_type": "markdown",
   "metadata": {},
   "source": [
    "# Exercises for Data Pre-processing"
   ]
  },
  {
   "cell_type": "code",
   "execution_count": 10,
   "metadata": {},
   "outputs": [],
   "source": [
    "# Import relevant libraries \n",
    "import numpy as np\n",
    "from sklearn.preprocessing import StandardScaler, MinMaxScaler"
   ]
  },
  {
   "cell_type": "code",
   "execution_count": 11,
   "metadata": {},
   "outputs": [],
   "source": [
    "# Set random seed\n",
    "np.random.seed(0)"
   ]
  },
  {
   "cell_type": "markdown",
   "metadata": {},
   "source": [
    "### 1. Generate a 5x5 matrix with values that do not exceed -10 or +10.\n"
   ]
  },
  {
   "cell_type": "code",
   "execution_count": 17,
   "metadata": {},
   "outputs": [
    {
     "name": "stdout",
     "output_type": "stream",
     "text": [
      "[[  3.   6.  -3.  -1. -10.]\n",
      " [  0.   8.   1.  -8.  -8.]\n",
      " [ -7.  -7.   8.   4.  -7.]\n",
      " [  7.   8.   4.  -1.  -9.]\n",
      " [ -6.   0.   1.  -2.   1.]]\n"
     ]
    }
   ],
   "source": [
    "random_array = np.random.randint(-10,10,(5,5)) # random numpy array of shape (5,5)\n",
    "random_array = random_array.astype(\"float\")\n",
    "print(random_array)"
   ]
  },
  {
   "cell_type": "markdown",
   "metadata": {},
   "source": [
    "### 2. Set the following to NaN: first item in third row, second item in second row, third item in fourth row"
   ]
  },
  {
   "cell_type": "code",
   "execution_count": 19,
   "metadata": {},
   "outputs": [
    {
     "name": "stdout",
     "output_type": "stream",
     "text": [
      "[[  3.   6.  -3.  -1. -10.]\n",
      " [  0.  nan   1.  -8.  -8.]\n",
      " [ nan  -7.   8.   4.  -7.]\n",
      " [  7.   8.  nan  -1.  -9.]\n",
      " [ -6.   0.   1.  -2.   1.]]\n"
     ]
    }
   ],
   "source": [
    "random_array[2, 0] = np.nan\n",
    "random_array[1, 1] = np.nan\n",
    "random_array[3, 2] = np.nan\n",
    "print(random_array)"
   ]
  },
  {
   "cell_type": "markdown",
   "metadata": {},
   "source": [
    "### 3. In a new copy of the table, replace any missing values in the table with the value 0"
   ]
  },
  {
   "cell_type": "code",
   "execution_count": 22,
   "metadata": {},
   "outputs": [
    {
     "name": "stdout",
     "output_type": "stream",
     "text": [
      "[[  3.   6.  -3.  -1. -10.]\n",
      " [  0.   0.   1.  -8.  -8.]\n",
      " [  0.  -7.   8.   4.  -7.]\n",
      " [  7.   8.   0.  -1.  -9.]\n",
      " [ -6.   0.   1.  -2.   1.]]\n"
     ]
    }
   ],
   "source": [
    "new_array = random_array.copy()\n",
    "new_array[np.isnan(new_array)] = 0\n",
    "print(new_array)"
   ]
  },
  {
   "cell_type": "markdown",
   "metadata": {},
   "source": [
    "### 4. In a new copy of the table, replace any missing values in the table with the average of the column\n"
   ]
  },
  {
   "cell_type": "code",
   "execution_count": 24,
   "metadata": {},
   "outputs": [
    {
     "name": "stdout",
     "output_type": "stream",
     "text": [
      "[[  3.     6.    -3.    -1.   -10.  ]\n",
      " [  0.     1.75   1.    -8.    -8.  ]\n",
      " [  1.    -7.     8.     4.    -7.  ]\n",
      " [  7.     8.     1.75  -1.    -9.  ]\n",
      " [ -6.     0.     1.    -2.     1.  ]]\n"
     ]
    }
   ],
   "source": [
    "new_array_avg = random_array.copy()\n",
    "new_array_avg = np.where(np.isnan(new_array_avg), np.nanmean(new_array_avg, axis=0), new_array_avg) \n",
    "\n",
    "print(new_array_avg)"
   ]
  },
  {
   "cell_type": "markdown",
   "metadata": {},
   "source": [
    "### 5. Normalize your first table (with 0’s as replacement values) using the z-transform."
   ]
  },
  {
   "cell_type": "code",
   "execution_count": 26,
   "metadata": {},
   "outputs": [
    {
     "name": "stdout",
     "output_type": "stream",
     "text": [
      "[[ 0.51625558  0.87181275 -1.21846731  0.15681251 -0.86527722]\n",
      " [-0.1877293  -0.26533432 -0.11076976 -1.6726668  -0.35629062]\n",
      " [-0.1877293  -1.59200589  1.82770096  1.46358345 -0.10179732]\n",
      " [ 1.45490209  1.25086177 -0.38769414  0.15681251 -0.61078392]\n",
      " [-1.59569907 -0.26533432 -0.11076976 -0.10454167  1.93414907]]\n"
     ]
    }
   ],
   "source": [
    "data = new_array.copy()\n",
    "scaler = StandardScaler()\n",
    "print(scaler.fit_transform(data))"
   ]
  },
  {
   "cell_type": "markdown",
   "metadata": {},
   "source": [
    "### 6. Normalize your second table (with average value as replacement value) using the min-max (or range) transform"
   ]
  },
  {
   "cell_type": "code",
   "execution_count": 27,
   "metadata": {},
   "outputs": [
    {
     "name": "stdout",
     "output_type": "stream",
     "text": [
      "[[0.69230769 0.86666667 0.         0.58333333 0.        ]\n",
      " [0.46153846 0.58333333 0.36363636 0.         0.18181818]\n",
      " [0.53846154 0.         1.         1.         0.27272727]\n",
      " [1.         1.         0.43181818 0.58333333 0.09090909]\n",
      " [0.         0.46666667 0.36363636 0.5        1.        ]]\n"
     ]
    }
   ],
   "source": [
    "scaler = MinMaxScaler()\n",
    "print(scaler.fit_transform(new_array_avg.copy()))"
   ]
  },
  {
   "cell_type": "markdown",
   "metadata": {},
   "source": [
    "# Visualisation"
   ]
  },
  {
   "cell_type": "code",
   "execution_count": 28,
   "metadata": {},
   "outputs": [],
   "source": [
    "# Import libraries\n",
    "from sklearn import datasets\n",
    "import matplotlib.pyplot as plt\n",
    "import pandas as pd"
   ]
  },
  {
   "cell_type": "code",
   "execution_count": 29,
   "metadata": {},
   "outputs": [],
   "source": [
    "# Import iris dataset\n",
    "iris = datasets.load_iris()\n",
    "\n",
    "# Get iris features and labels\n",
    "X = iris.data\n",
    "y = iris.target\n",
    "\n",
    "# Convert X to pandas dataframe\n",
    "column_names = ['Sepal Length', 'Sepal Width', 'Petal Length', 'Petal Width']\n",
    "iris_df = pd.DataFrame(X, columns=column_names)"
   ]
  },
  {
   "cell_type": "code",
   "execution_count": 30,
   "metadata": {},
   "outputs": [
    {
     "data": {
      "text/plain": [
       "Text(0.5,1,'Graph of Sepal Width against Sepal Length')"
      ]
     },
     "execution_count": 30,
     "metadata": {},
     "output_type": "execute_result"
    },
    {
     "data": {
      "image/png": "[encoded data removed]",
      "text/plain": [
       "<Figure size 432x288 with 1 Axes>"
      ]
     },
     "metadata": {},
     "output_type": "display_data"
    }
   ],
   "source": [
    "# Visualise data, colour scatterpoints using labels\n",
    "plt.scatter(x=iris_df['Sepal Length'], y=iris_df['Sepal Width'],\n",
    "           c=y)\n",
    "\n",
    "# Set labels for x axis, y axis and plot title\n",
    "plt.xlabel('Sepal Length')\n",
    "plt.ylabel('Sepal Width')\n",
    "plt.title('Graph of Sepal Width against Sepal Length')"
   ]
  },
  {
   "cell_type": "code",
   "execution_count": null,
   "metadata": {},
   "outputs": [],
   "source": []
  }
 ],
 "metadata": {
  "kernelspec": {
   "display_name": "Python 3",
   "language": "python",
   "name": "python3"
  },
  "language_info": {
   "codemirror_mode": {
    "name": "ipython",
    "version": 3
   },
   "file_extension": ".py",
   "mimetype": "text/x-python",
   "name": "python",
   "nbconvert_exporter": "python",
   "pygments_lexer": "ipython3",
   "version": "3.6.8"
  }
 },
 "nbformat": 4,
 "nbformat_minor": 5
}
