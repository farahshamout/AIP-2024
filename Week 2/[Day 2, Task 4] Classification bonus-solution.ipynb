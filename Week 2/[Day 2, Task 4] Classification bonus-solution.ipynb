{
 "cells": [
  {
   "cell_type": "markdown",
   "id": "ef8f3dc8",
   "metadata": {},
   "source": [
    "### In this notebook we are going to implement the bonus material as part of the lecture on classification."
   ]
  },
  {
   "cell_type": "code",
   "execution_count": 9,
   "id": "2346a6ee",
   "metadata": {},
   "outputs": [],
   "source": [
    "# Import libraries\n",
    "import numpy as np \n",
    "import pandas as pd\n",
    "\n",
    "from sklearn.datasets import fetch_california_housing\n",
    "from sklearn.model_selection import train_test_split\n",
    "from sklearn.model_selection import KFold, StratifiedKFold\n",
    "from sklearn.linear_model import LogisticRegression\n",
    "from sklearn.metrics import plot_confusion_matrix\n",
    "import matplotlib.pyplot as plt\n",
    "\n",
    "import warnings\n",
    "warnings.filterwarnings(\"ignore\")"
   ]
  },
  {
   "cell_type": "markdown",
   "id": "3a4eefad",
   "metadata": {},
   "source": [
    "# BONUS Material"
   ]
  },
  {
   "cell_type": "markdown",
   "id": "e01bcbc3",
   "metadata": {},
   "source": [
    "Import the Titanic dataset and set the feature “survived” as the label. "
   ]
  },
  {
   "cell_type": "code",
   "execution_count": 2,
   "id": "60f335a6",
   "metadata": {},
   "outputs": [],
   "source": [
    "data = pd.read_csv('titanic_train.csv')"
   ]
  },
  {
   "cell_type": "code",
   "execution_count": 3,
   "id": "46a5721c",
   "metadata": {
    "scrolled": true
   },
   "outputs": [
    {
     "data": {
      "text/html": [
       "<div>\n",
       "<style scoped>\n",
       "    .dataframe tbody tr th:only-of-type {\n",
       "        vertical-align: middle;\n",
       "    }\n",
       "\n",
       "    .dataframe tbody tr th {\n",
       "        vertical-align: top;\n",
       "    }\n",
       "\n",
       "    .dataframe thead th {\n",
       "        text-align: right;\n",
       "    }\n",
       "</style>\n",
       "<table border=\"1\" class=\"dataframe\">\n",
       "  <thead>\n",
       "    <tr style=\"text-align: right;\">\n",
       "      <th></th>\n",
       "      <th>PassengerId</th>\n",
       "      <th>Survived</th>\n",
       "      <th>Pclass</th>\n",
       "      <th>Name</th>\n",
       "      <th>Sex</th>\n",
       "      <th>Age</th>\n",
       "      <th>SibSp</th>\n",
       "      <th>Parch</th>\n",
       "      <th>Ticket</th>\n",
       "      <th>Fare</th>\n",
       "      <th>Cabin</th>\n",
       "      <th>Embarked</th>\n",
       "    </tr>\n",
       "  </thead>\n",
       "  <tbody>\n",
       "    <tr>\n",
       "      <th>0</th>\n",
       "      <td>1</td>\n",
       "      <td>0</td>\n",
       "      <td>3</td>\n",
       "      <td>Braund, Mr. Owen Harris</td>\n",
       "      <td>male</td>\n",
       "      <td>22.0</td>\n",
       "      <td>1</td>\n",
       "      <td>0</td>\n",
       "      <td>A/5 21171</td>\n",
       "      <td>7.2500</td>\n",
       "      <td>NaN</td>\n",
       "      <td>S</td>\n",
       "    </tr>\n",
       "    <tr>\n",
       "      <th>1</th>\n",
       "      <td>2</td>\n",
       "      <td>1</td>\n",
       "      <td>1</td>\n",
       "      <td>Cumings, Mrs. John Bradley (Florence Briggs Th...</td>\n",
       "      <td>female</td>\n",
       "      <td>38.0</td>\n",
       "      <td>1</td>\n",
       "      <td>0</td>\n",
       "      <td>PC 17599</td>\n",
       "      <td>71.2833</td>\n",
       "      <td>C85</td>\n",
       "      <td>C</td>\n",
       "    </tr>\n",
       "    <tr>\n",
       "      <th>2</th>\n",
       "      <td>3</td>\n",
       "      <td>1</td>\n",
       "      <td>3</td>\n",
       "      <td>Heikkinen, Miss. Laina</td>\n",
       "      <td>female</td>\n",
       "      <td>26.0</td>\n",
       "      <td>0</td>\n",
       "      <td>0</td>\n",
       "      <td>STON/O2. 3101282</td>\n",
       "      <td>7.9250</td>\n",
       "      <td>NaN</td>\n",
       "      <td>S</td>\n",
       "    </tr>\n",
       "    <tr>\n",
       "      <th>3</th>\n",
       "      <td>4</td>\n",
       "      <td>1</td>\n",
       "      <td>1</td>\n",
       "      <td>Futrelle, Mrs. Jacques Heath (Lily May Peel)</td>\n",
       "      <td>female</td>\n",
       "      <td>35.0</td>\n",
       "      <td>1</td>\n",
       "      <td>0</td>\n",
       "      <td>113803</td>\n",
       "      <td>53.1000</td>\n",
       "      <td>C123</td>\n",
       "      <td>S</td>\n",
       "    </tr>\n",
       "    <tr>\n",
       "      <th>4</th>\n",
       "      <td>5</td>\n",
       "      <td>0</td>\n",
       "      <td>3</td>\n",
       "      <td>Allen, Mr. William Henry</td>\n",
       "      <td>male</td>\n",
       "      <td>35.0</td>\n",
       "      <td>0</td>\n",
       "      <td>0</td>\n",
       "      <td>373450</td>\n",
       "      <td>8.0500</td>\n",
       "      <td>NaN</td>\n",
       "      <td>S</td>\n",
       "    </tr>\n",
       "  </tbody>\n",
       "</table>\n",
       "</div>"
      ],
      "text/plain": [
       "   PassengerId  Survived  Pclass  \\\n",
       "0            1         0       3   \n",
       "1            2         1       1   \n",
       "2            3         1       3   \n",
       "3            4         1       1   \n",
       "4            5         0       3   \n",
       "\n",
       "                                                Name     Sex   Age  SibSp  \\\n",
       "0                            Braund, Mr. Owen Harris    male  22.0      1   \n",
       "1  Cumings, Mrs. John Bradley (Florence Briggs Th...  female  38.0      1   \n",
       "2                             Heikkinen, Miss. Laina  female  26.0      0   \n",
       "3       Futrelle, Mrs. Jacques Heath (Lily May Peel)  female  35.0      1   \n",
       "4                           Allen, Mr. William Henry    male  35.0      0   \n",
       "\n",
       "   Parch            Ticket     Fare Cabin Embarked  \n",
       "0      0         A/5 21171   7.2500   NaN        S  \n",
       "1      0          PC 17599  71.2833   C85        C  \n",
       "2      0  STON/O2. 3101282   7.9250   NaN        S  \n",
       "3      0            113803  53.1000  C123        S  \n",
       "4      0            373450   8.0500   NaN        S  "
      ]
     },
     "execution_count": 3,
     "metadata": {},
     "output_type": "execute_result"
    }
   ],
   "source": [
    "data.head()"
   ]
  },
  {
   "cell_type": "code",
   "execution_count": 4,
   "id": "03970786",
   "metadata": {
    "scrolled": true
   },
   "outputs": [
    {
     "name": "stdout",
     "output_type": "stream",
     "text": [
      "   Survived  Pclass     Sex   Age  SibSp  Parch     Fare Embarked\n",
      "0         0       3    male  22.0      1      0   7.2500        S\n",
      "1         1       1  female  38.0      1      0  71.2833        C\n",
      "2         1       3  female  26.0      0      0   7.9250        S\n",
      "3         1       1  female  35.0      1      0  53.1000        S\n",
      "4         0       3    male  35.0      0      0   8.0500        S\n"
     ]
    }
   ],
   "source": [
    "data = data.drop(['PassengerId', 'Name', 'Ticket', 'Cabin'], axis=1).dropna().reset_index(drop=True)\n",
    "print(data.head())"
   ]
  },
  {
   "cell_type": "code",
   "execution_count": 5,
   "id": "971c2868",
   "metadata": {},
   "outputs": [
    {
     "name": "stdout",
     "output_type": "stream",
     "text": [
      "   Survived  Pclass   Age  SibSp  Parch     Fare  Sex_female  Sex_male  \\\n",
      "0         0       3  22.0      1      0   7.2500           0         1   \n",
      "1         1       1  38.0      1      0  71.2833           1         0   \n",
      "2         1       3  26.0      0      0   7.9250           1         0   \n",
      "3         1       1  35.0      1      0  53.1000           1         0   \n",
      "4         0       3  35.0      0      0   8.0500           0         1   \n",
      "\n",
      "   Embarked_C  Embarked_Q  Embarked_S  \n",
      "0           0           0           1  \n",
      "1           1           0           0  \n",
      "2           0           0           1  \n",
      "3           0           0           1  \n",
      "4           0           0           1  \n"
     ]
    }
   ],
   "source": [
    "data_onehot = pd.get_dummies(data, columns=['Sex',  'Embarked'])\n",
    "print(data_onehot.head())\n",
    "\n",
    "X = data_onehot.drop(columns=['Survived'])\n",
    "y = data_onehot['Survived']"
   ]
  },
  {
   "cell_type": "markdown",
   "id": "46b222b5",
   "metadata": {},
   "source": [
    "Split the data how you believe it should be split. Be prepared to justify."
   ]
  },
  {
   "cell_type": "code",
   "execution_count": 6,
   "id": "fa56c9ba",
   "metadata": {},
   "outputs": [],
   "source": [
    "# Split data into train and test sets with 20% for testing, and 80% for training\n",
    "X_train_val, X_test, y_train_val, y_test = train_test_split(X, y, test_size=0.2, random_state=42)\n",
    "\n",
    "# Get a small validation set to choose a parameter to maximise performance\n",
    "X_train, X_val, y_train, y_val = train_test_split(X_train_val, y_train_val, test_size=0.2, random_state=42)"
   ]
  },
  {
   "cell_type": "code",
   "execution_count": 7,
   "id": "65a8a1d1",
   "metadata": {},
   "outputs": [],
   "source": [
    "# Normalise Age and Fare because they are continous values\n",
    "X_test['Age'] = X_test['Age'] / X_test['Age'].max()\n",
    "X_test['Fare'] = X_test['Fare'] / X_test['Fare'].max()"
   ]
  },
  {
   "cell_type": "markdown",
   "id": "384778c6",
   "metadata": {},
   "source": [
    "Implement a logistic regression and find the regularisation parameter that maximises performance. \n",
    "\n",
    "Find the best regularisation parameter 'C' that will return best performance using GridSearchCV."
   ]
  },
  {
   "cell_type": "code",
   "execution_count": 10,
   "id": "6891f997",
   "metadata": {
    "scrolled": false
   },
   "outputs": [
    {
     "name": "stdout",
     "output_type": "stream",
     "text": [
      "LogisticRegression(C=0.1, random_state=0)\n"
     ]
    }
   ],
   "source": [
    "# Normalise Age and Fare because they are continous values\n",
    "X_val['Age'] = X_val['Age'] / X_val['Age'].max()\n",
    "X_val['Fare'] = X_val['Fare'] / X_val['Fare'].max()\n",
    "\n",
    "# Try running the logistic regression below (why does the error occur?)\n",
    "from sklearn.model_selection import GridSearchCV\n",
    "\n",
    "parameters = {'C':np.arange(0.1, 1)}\n",
    "\n",
    "svc = LogisticRegression(random_state=0)\n",
    "grid_search_m = GridSearchCV(svc, parameters)\n",
    "grid_search_m.fit(X_val, y_val)\n",
    "\n",
    "# Print best estimator\n",
    "print(grid_search_m.best_estimator_)"
   ]
  },
  {
   "cell_type": "markdown",
   "id": "799408af",
   "metadata": {},
   "source": [
    "Output the classification threshold and the weights and decide which features are the most important for the prediction problem."
   ]
  },
  {
   "cell_type": "code",
   "execution_count": 11,
   "id": "a52f8d36",
   "metadata": {},
   "outputs": [
    {
     "data": {
      "image/png": "[encoded data removed]",
      "text/plain": [
       "<Figure size 432x288 with 2 Axes>"
      ]
     },
     "metadata": {
      "needs_background": "light"
     },
     "output_type": "display_data"
    },
    {
     "data": {
      "image/png": "[encoded data removed]",
      "text/plain": [
       "<Figure size 432x288 with 2 Axes>"
      ]
     },
     "metadata": {
      "needs_background": "light"
     },
     "output_type": "display_data"
    },
    {
     "data": {
      "image/png": "[encoded data removed]",
      "text/plain": [
       "<Figure size 432x288 with 2 Axes>"
      ]
     },
     "metadata": {
      "needs_background": "light"
     },
     "output_type": "display_data"
    }
   ],
   "source": [
    "# Use straified K fold because of the imbalanced dataset\n",
    "kf_stratify = StratifiedKFold(n_splits=3)\n",
    "kf_stratify.get_n_splits(X_train)\n",
    "\n",
    "from sklearn.metrics import roc_curve\n",
    "\n",
    "# Split data into two folds\n",
    "for train_index, val_index in kf_stratify.split(X_train, y_train):\n",
    "    X_fold, X_val = X_train.iloc[train_index], X_train.iloc[val_index]\n",
    "    y_fold, y_val = y_train.iloc[train_index], y_train.iloc[val_index]\n",
    "    \n",
    "    # Normalise Age and Fare because they are continous values\n",
    "    X_fold['Age'] = X_fold['Age'] / X_fold['Age'].max()\n",
    "    X_fold['Fare'] = X_fold['Fare'] / X_fold['Fare'].max()\n",
    "    \n",
    "    svc = LogisticRegression(random_state=0, C=0.1)\n",
    "    svc.fit(X_fold, y_fold)\n",
    "    \n",
    "    # Display confusion matrix of LR classifier\n",
    "    plot_confusion_matrix(svc, X_test, y_test)"
   ]
  },
  {
   "cell_type": "code",
   "execution_count": 12,
   "id": "02b8ed98",
   "metadata": {
    "scrolled": true
   },
   "outputs": [
    {
     "data": {
      "text/plain": [
       "Text(0.5, 0, 'Feature Importance')"
      ]
     },
     "execution_count": 12,
     "metadata": {},
     "output_type": "execute_result"
    },
    {
     "data": {
      "image/png": "[encoded data removed]",
      "text/plain": [
       "<Figure size 432x288 with 1 Axes>"
      ]
     },
     "metadata": {
      "needs_background": "light"
     },
     "output_type": "display_data"
    }
   ],
   "source": [
    "# Plot feature importance\n",
    "\n",
    "plt.barh(list(X.columns), svc.coef_[0])\n",
    "plt.xlabel(\"Feature Importance\")"
   ]
  }
 ],
 "metadata": {
  "kernelspec": {
   "display_name": "Python 3 (ipykernel)",
   "language": "python",
   "name": "python3"
  },
  "language_info": {
   "codemirror_mode": {
    "name": "ipython",
    "version": 3
   },
   "file_extension": ".py",
   "mimetype": "text/x-python",
   "name": "python",
   "nbconvert_exporter": "python",
   "pygments_lexer": "ipython3",
   "version": "3.7.13"
  }
 },
 "nbformat": 4,
 "nbformat_minor": 5
}
