{
 "cells": [
  {
   "cell_type": "markdown",
   "metadata": {},
   "source": [
    "### In this notebook we are going to run exercises related to data anonymization."
   ]
  },
  {
   "cell_type": "markdown",
   "metadata": {},
   "source": [
    "### (0) Import the pandas library as 'pd' in the cell below."
   ]
  },
  {
   "cell_type": "code",
   "execution_count": 1,
   "metadata": {},
   "outputs": [],
   "source": [
    "# Import the pandas library as 'pd' in this cell \n"
   ]
  },
  {
   "cell_type": "markdown",
   "metadata": {},
   "source": [
    "### (1) Read the dataframe and assess the first 5 rows of the dataframe."
   ]
  },
  {
   "cell_type": "code",
   "execution_count": 2,
   "metadata": {},
   "outputs": [],
   "source": [
    "# Load dataset\n",
    "\n",
    "dataset = pd.read_csv('dataset_anonymisation.csv', index_col=0)"
   ]
  },
  {
   "cell_type": "markdown",
   "metadata": {},
   "source": [
    "Read the first 5 rows of the dataframe in the cell below."
   ]
  },
  {
   "cell_type": "code",
   "execution_count": 3,
   "metadata": {
    "scrolled": true
   },
   "outputs": [
    {
     "data": {
      "text/html": [
       "<div>\n",
       "<style scoped>\n",
       "    .dataframe tbody tr th:only-of-type {\n",
       "        vertical-align: middle;\n",
       "    }\n",
       "\n",
       "    .dataframe tbody tr th {\n",
       "        vertical-align: top;\n",
       "    }\n",
       "\n",
       "    .dataframe thead th {\n",
       "        text-align: right;\n",
       "    }\n",
       "</style>\n",
       "<table border=\"1\" class=\"dataframe\">\n",
       "  <thead>\n",
       "    <tr style=\"text-align: right;\">\n",
       "      <th></th>\n",
       "      <th>Names</th>\n",
       "      <th>Age</th>\n",
       "      <th>Gender</th>\n",
       "      <th>Postcode</th>\n",
       "      <th>Admission date</th>\n",
       "      <th>Discharge date</th>\n",
       "      <th>Diagnosis code</th>\n",
       "      <th>Dr name</th>\n",
       "    </tr>\n",
       "  </thead>\n",
       "  <tbody>\n",
       "    <tr>\n",
       "      <th>0</th>\n",
       "      <td>Dylan Misondo</td>\n",
       "      <td>39</td>\n",
       "      <td>M</td>\n",
       "      <td>OX3 5TG</td>\n",
       "      <td>2016-10-10 00:49:41</td>\n",
       "      <td>2016-12-13 01:57:51</td>\n",
       "      <td>J189</td>\n",
       "      <td>Meredith Gray</td>\n",
       "    </tr>\n",
       "    <tr>\n",
       "      <th>1</th>\n",
       "      <td>Barbara Doe</td>\n",
       "      <td>49</td>\n",
       "      <td>F</td>\n",
       "      <td>OX1 8VD</td>\n",
       "      <td>2017-01-11 11:38:49</td>\n",
       "      <td>2017-01-23 14:58:51</td>\n",
       "      <td>A419</td>\n",
       "      <td>Meredith Gray</td>\n",
       "    </tr>\n",
       "    <tr>\n",
       "      <th>2</th>\n",
       "      <td>Maeva Erbal</td>\n",
       "      <td>48</td>\n",
       "      <td>F</td>\n",
       "      <td>OX3 1GR</td>\n",
       "      <td>2018-09-10 14:58:34</td>\n",
       "      <td>2018-09-15 20:59:49</td>\n",
       "      <td>A419</td>\n",
       "      <td>Gregory House</td>\n",
       "    </tr>\n",
       "    <tr>\n",
       "      <th>3</th>\n",
       "      <td>Michael Toren</td>\n",
       "      <td>58</td>\n",
       "      <td>M</td>\n",
       "      <td>OX2 9IR</td>\n",
       "      <td>2018-02-01 01:24:58</td>\n",
       "      <td>2018-04-15 17:27:59</td>\n",
       "      <td>I519</td>\n",
       "      <td>Hugh Laurie</td>\n",
       "    </tr>\n",
       "    <tr>\n",
       "      <th>4</th>\n",
       "      <td>Alice Toren</td>\n",
       "      <td>36</td>\n",
       "      <td>F</td>\n",
       "      <td>OX4 8EX</td>\n",
       "      <td>2018-11-26 22:00:31</td>\n",
       "      <td>2018-12-28 23:37:58</td>\n",
       "      <td>A419</td>\n",
       "      <td>Meredith Gray</td>\n",
       "    </tr>\n",
       "  </tbody>\n",
       "</table>\n",
       "</div>"
      ],
      "text/plain": [
       "           Names  Age Gender Postcode       Admission date  \\\n",
       "0  Dylan Misondo   39      M  OX3 5TG  2016-10-10 00:49:41   \n",
       "1    Barbara Doe   49      F  OX1 8VD  2017-01-11 11:38:49   \n",
       "2    Maeva Erbal   48      F  OX3 1GR  2018-09-10 14:58:34   \n",
       "3  Michael Toren   58      M  OX2 9IR  2018-02-01 01:24:58   \n",
       "4    Alice Toren   36      F  OX4 8EX  2018-11-26 22:00:31   \n",
       "\n",
       "        Discharge date Diagnosis code         Dr name  \n",
       "0  2016-12-13 01:57:51           J189   Meredith Gray  \n",
       "1  2017-01-23 14:58:51           A419   Meredith Gray  \n",
       "2  2018-09-15 20:59:49           A419  Gregory House   \n",
       "3  2018-04-15 17:27:59           I519     Hugh Laurie  \n",
       "4  2018-12-28 23:37:58           A419   Meredith Gray  "
      ]
     },
     "execution_count": 3,
     "metadata": {},
     "output_type": "execute_result"
    }
   ],
   "source": [
    "# Read the first 5 rows of the dataframe in the cell below.\n"
   ]
  },
  {
   "cell_type": "markdown",
   "metadata": {},
   "source": [
    "### (2) Determine the Direct and Indirect Identifiers. Feel free to discuss with your peers."
   ]
  },
  {
   "cell_type": "markdown",
   "metadata": {},
   "source": [
    "### (3)  Implement Attribute Suppression on the “Dr name” column.\n",
    "\n",
    "Hint: How do you remove a column in pandas? Try the pandas 'drop' function."
   ]
  },
  {
   "cell_type": "code",
   "execution_count": null,
   "metadata": {},
   "outputs": [],
   "source": [
    "# Drop the Dr name column in your dataset"
   ]
  },
  {
   "cell_type": "code",
   "execution_count": null,
   "metadata": {},
   "outputs": [],
   "source": [
    "# View your dataset to ensure that you no longer have the 'Dr name' column in your dataset\n"
   ]
  },
  {
   "cell_type": "markdown",
   "metadata": {},
   "source": [
    "### (4) Implement Pseudonymisation over the names of the patients. \n",
    "\n",
    "##### Why: If we want to send data securely to other users who may not be able to access the same database as us, we want to ensure that any personal information in the data is not sent over.\n",
    "\n",
    "##### How: We can do this using the uuid library in python. uuid generates a unique identifier of a given string.\n",
    "\n",
    "We will do this step by step below."
   ]
  },
  {
   "cell_type": "code",
   "execution_count": 4,
   "metadata": {},
   "outputs": [],
   "source": [
    "# Function to generate a pseudo-identifier sequence using python random number generator library uudi.\n",
    "import uuid\n",
    "   \n",
    "def get_uuid_id():\n",
    "    return uuid.uuid1().int"
   ]
  },
  {
   "cell_type": "code",
   "execution_count": 5,
   "metadata": {},
   "outputs": [
    {
     "data": {
      "text/plain": [
       "11211128234960378738056219615223072201"
      ]
     },
     "execution_count": 5,
     "metadata": {},
     "output_type": "execute_result"
    }
   ],
   "source": [
    "# STEP 3A: Try running the function get_uuid_id to see what output it returns.\n",
    "# Do you remember how to run a function? \n"
   ]
  },
  {
   "cell_type": "markdown",
   "metadata": {},
   "source": [
    "### Mini-lecture on For loops"
   ]
  },
  {
   "cell_type": "markdown",
   "metadata": {},
   "source": [
    "For loops are a way for a code to be executed a fixed number of times. \n",
    "\n",
    "For example, if I want to print the word 'AIP22' 7 times I would write:\n",
    "\n",
    "  <code> for r in range(7): \n",
    "    print('AIP22')\n",
    "</code>\n",
    "\n",
    "\n",
    "  <code> range(n)</code>: n specifies the number of times you want to run the loop.\n",
    "  \n",
    "  <code> r</code>: r provides the 'nth' element of the loop that is being run. If r is 5, then the loop is being run for its 5th time.\n",
    "  \n",
    "  <code> print</code>: print is the function that is being run 'nth' times, in this case, 7 times."
   ]
  },
  {
   "cell_type": "code",
   "execution_count": null,
   "metadata": {
    "scrolled": false
   },
   "outputs": [],
   "source": [
    "# Try this example of a for loop\n",
    "for r in range(7): \n",
    "    print(\"I am running the loop for the \", r, \"th time:\", 'AIP22')"
   ]
  },
  {
   "cell_type": "markdown",
   "metadata": {},
   "source": [
    "How do we save the output each time the function is run? \n",
    "\n",
    "We can use what is called <code>lists</code>. Just think of a list as a shopping bag. Everytime you pick up something new, you put it into your bag!\n",
    "\n",
    "Empty <code> lists </code> in python are initialised as square brackets <code> [] </code>.\n",
    "\n",
    "\n",
    "<code> append </code> in python just means to 'attach' your saved variable."
   ]
  },
  {
   "cell_type": "code",
   "execution_count": null,
   "metadata": {},
   "outputs": [],
   "source": [
    "shopping_bag_of_r = []\n",
    "for r in range(7): \n",
    "    shopping_bag_of_r.append(r) \n",
    "    print(\"I am saving the loop iteration number\", r, \"in a list\")\n",
    "    \n",
    "print(\"\\n\")\n",
    "print(\"I now have the numbers\", shopping_bag_of_r, \"in my list.\")"
   ]
  },
  {
   "cell_type": "markdown",
   "metadata": {},
   "source": [
    "### (5) Determine the number of unique entries that we need to generate for the dataset."
   ]
  },
  {
   "cell_type": "code",
   "execution_count": 8,
   "metadata": {
    "tags": [
     "hide_input"
    ]
   },
   "outputs": [],
   "source": [
    "# Determine the number of unique entries we will need for our dataset.\n"
   ]
  },
  {
   "cell_type": "code",
   "execution_count": 10,
   "metadata": {
    "scrolled": true
   },
   "outputs": [
    {
     "data": {
      "text/plain": [
       "100"
      ]
     },
     "execution_count": 10,
     "metadata": {},
     "output_type": "execute_result"
    }
   ],
   "source": [
    "# Use a for loop to generate the required number of unique entries and store them in unique_ids.\n"
   ]
  },
  {
   "cell_type": "code",
   "execution_count": null,
   "metadata": {},
   "outputs": [],
   "source": [
    "# Print the first 5 items in the list of unique IDs.\n"
   ]
  },
  {
   "cell_type": "code",
   "execution_count": null,
   "metadata": {
    "scrolled": true
   },
   "outputs": [],
   "source": [
    "# Set a new column in dataset 'pseudo_names' as unique ids.\n"
   ]
  },
  {
   "cell_type": "code",
   "execution_count": null,
   "metadata": {},
   "outputs": [],
   "source": [
    "# View your dataset to ensure that you have the 'pseudo_names' column in your dataset that \n",
    "# no longer contains any identifier to the patient_id"
   ]
  },
  {
   "cell_type": "markdown",
   "metadata": {},
   "source": [
    "### (6) Implement Generalisation over the ages of the patients.\n"
   ]
  },
  {
   "cell_type": "code",
   "execution_count": 11,
   "metadata": {},
   "outputs": [
    {
     "data": {
      "text/html": [
       "<div>\n",
       "<style scoped>\n",
       "    .dataframe tbody tr th:only-of-type {\n",
       "        vertical-align: middle;\n",
       "    }\n",
       "\n",
       "    .dataframe tbody tr th {\n",
       "        vertical-align: top;\n",
       "    }\n",
       "\n",
       "    .dataframe thead th {\n",
       "        text-align: right;\n",
       "    }\n",
       "</style>\n",
       "<table border=\"1\" class=\"dataframe\">\n",
       "  <thead>\n",
       "    <tr style=\"text-align: right;\">\n",
       "      <th></th>\n",
       "      <th>Names</th>\n",
       "      <th>Age</th>\n",
       "      <th>Gender</th>\n",
       "      <th>Postcode</th>\n",
       "      <th>Admission date</th>\n",
       "      <th>Discharge date</th>\n",
       "      <th>Diagnosis code</th>\n",
       "      <th>Dr name</th>\n",
       "    </tr>\n",
       "  </thead>\n",
       "  <tbody>\n",
       "    <tr>\n",
       "      <th>0</th>\n",
       "      <td>Dylan Misondo</td>\n",
       "      <td>39</td>\n",
       "      <td>M</td>\n",
       "      <td>OX3 5TG</td>\n",
       "      <td>2016-10-10 00:49:41</td>\n",
       "      <td>2016-12-13 01:57:51</td>\n",
       "      <td>J189</td>\n",
       "      <td>Meredith Gray</td>\n",
       "    </tr>\n",
       "    <tr>\n",
       "      <th>1</th>\n",
       "      <td>Barbara Doe</td>\n",
       "      <td>49</td>\n",
       "      <td>F</td>\n",
       "      <td>OX1 8VD</td>\n",
       "      <td>2017-01-11 11:38:49</td>\n",
       "      <td>2017-01-23 14:58:51</td>\n",
       "      <td>A419</td>\n",
       "      <td>Meredith Gray</td>\n",
       "    </tr>\n",
       "    <tr>\n",
       "      <th>2</th>\n",
       "      <td>Maeva Erbal</td>\n",
       "      <td>48</td>\n",
       "      <td>F</td>\n",
       "      <td>OX3 1GR</td>\n",
       "      <td>2018-09-10 14:58:34</td>\n",
       "      <td>2018-09-15 20:59:49</td>\n",
       "      <td>A419</td>\n",
       "      <td>Gregory House</td>\n",
       "    </tr>\n",
       "    <tr>\n",
       "      <th>3</th>\n",
       "      <td>Michael Toren</td>\n",
       "      <td>58</td>\n",
       "      <td>M</td>\n",
       "      <td>OX2 9IR</td>\n",
       "      <td>2018-02-01 01:24:58</td>\n",
       "      <td>2018-04-15 17:27:59</td>\n",
       "      <td>I519</td>\n",
       "      <td>Hugh Laurie</td>\n",
       "    </tr>\n",
       "    <tr>\n",
       "      <th>4</th>\n",
       "      <td>Alice Toren</td>\n",
       "      <td>36</td>\n",
       "      <td>F</td>\n",
       "      <td>OX4 8EX</td>\n",
       "      <td>2018-11-26 22:00:31</td>\n",
       "      <td>2018-12-28 23:37:58</td>\n",
       "      <td>A419</td>\n",
       "      <td>Meredith Gray</td>\n",
       "    </tr>\n",
       "  </tbody>\n",
       "</table>\n",
       "</div>"
      ],
      "text/plain": [
       "           Names  Age Gender Postcode       Admission date  \\\n",
       "0  Dylan Misondo   39      M  OX3 5TG  2016-10-10 00:49:41   \n",
       "1    Barbara Doe   49      F  OX1 8VD  2017-01-11 11:38:49   \n",
       "2    Maeva Erbal   48      F  OX3 1GR  2018-09-10 14:58:34   \n",
       "3  Michael Toren   58      M  OX2 9IR  2018-02-01 01:24:58   \n",
       "4    Alice Toren   36      F  OX4 8EX  2018-11-26 22:00:31   \n",
       "\n",
       "        Discharge date Diagnosis code         Dr name  \n",
       "0  2016-12-13 01:57:51           J189   Meredith Gray  \n",
       "1  2017-01-23 14:58:51           A419   Meredith Gray  \n",
       "2  2018-09-15 20:59:49           A419  Gregory House   \n",
       "3  2018-04-15 17:27:59           I519     Hugh Laurie  \n",
       "4  2018-12-28 23:37:58           A419   Meredith Gray  "
      ]
     },
     "execution_count": 11,
     "metadata": {},
     "output_type": "execute_result"
    }
   ],
   "source": [
    "# Print the unique ages that are available in the dataset.\n"
   ]
  },
  {
   "cell_type": "code",
   "execution_count": 13,
   "metadata": {},
   "outputs": [],
   "source": [
    "# Hint: Use the following function pd.cut(df[column_name], bins=number of bins)\n"
   ]
  },
  {
   "cell_type": "code",
   "execution_count": 14,
   "metadata": {
    "scrolled": true
   },
   "outputs": [
    {
     "name": "stdout",
     "output_type": "stream",
     "text": [
      "           Names  Age Gender Postcode       Admission date  \\\n",
      "0  Dylan Misondo   39      M  OX3 5TG  2016-10-10 00:49:41   \n",
      "1    Barbara Doe   49      F  OX1 8VD  2017-01-11 11:38:49   \n",
      "2    Maeva Erbal   48      F  OX3 1GR  2018-09-10 14:58:34   \n",
      "3  Michael Toren   58      M  OX2 9IR  2018-02-01 01:24:58   \n",
      "4    Alice Toren   36      F  OX4 8EX  2018-11-26 22:00:31   \n",
      "\n",
      "        Discharge date Diagnosis code         Dr name        Age_group  \n",
      "0  2016-12-13 01:57:51           J189   Meredith Gray    (37.25, 44.5]  \n",
      "1  2017-01-23 14:58:51           A419   Meredith Gray    (44.5, 51.75]  \n",
      "2  2018-09-15 20:59:49           A419  Gregory House     (44.5, 51.75]  \n",
      "3  2018-04-15 17:27:59           I519     Hugh Laurie    (51.75, 59.0]  \n",
      "4  2018-12-28 23:37:58           A419   Meredith Gray  (29.971, 37.25]  \n"
     ]
    }
   ],
   "source": [
    "# Notice that the age_group variable in dataset now has been binned into intervals\n",
    "print(dataset.head())"
   ]
  },
  {
   "cell_type": "markdown",
   "metadata": {},
   "source": [
    "### Mini-lecture on apply()\n",
    "\n",
    "In pandas, we can use the function <code> apply </code> as a fast way of applying the specific function to each entry in our dataframe. \n",
    "\n",
    "For example   <code> dataset['Name'].apply(function) </code>"
   ]
  },
  {
   "cell_type": "code",
   "execution_count": 16,
   "metadata": {},
   "outputs": [],
   "source": [
    "def binning(age):\n",
    "    \"\"\"\n",
    "    This function will take age as an input, and if it falls within the range specified return \n",
    "    a number between 0 and 2.\n",
    "    \"\"\"\n",
    "    if 30 <= age < 40:\n",
    "        return 0\n",
    "    if 40 <= age < 50:\n",
    "        return 1\n",
    "    if 50 <= age < 60:\n",
    "        return 2"
   ]
  },
  {
   "cell_type": "code",
   "execution_count": 17,
   "metadata": {},
   "outputs": [],
   "source": [
    "# Apply the binning function to the dataset column ['Age'] and create a new column called Age\n",
    "dataset['Age_bin'] = dataset['Age'].apply(binning)"
   ]
  },
  {
   "cell_type": "code",
   "execution_count": 18,
   "metadata": {},
   "outputs": [
    {
     "data": {
      "text/html": [
       "<div>\n",
       "<style scoped>\n",
       "    .dataframe tbody tr th:only-of-type {\n",
       "        vertical-align: middle;\n",
       "    }\n",
       "\n",
       "    .dataframe tbody tr th {\n",
       "        vertical-align: top;\n",
       "    }\n",
       "\n",
       "    .dataframe thead th {\n",
       "        text-align: right;\n",
       "    }\n",
       "</style>\n",
       "<table border=\"1\" class=\"dataframe\">\n",
       "  <thead>\n",
       "    <tr style=\"text-align: right;\">\n",
       "      <th></th>\n",
       "      <th>Names</th>\n",
       "      <th>Age</th>\n",
       "      <th>Gender</th>\n",
       "      <th>Postcode</th>\n",
       "      <th>Admission date</th>\n",
       "      <th>Discharge date</th>\n",
       "      <th>Diagnosis code</th>\n",
       "      <th>Dr name</th>\n",
       "      <th>Age_group</th>\n",
       "      <th>Age_bin</th>\n",
       "    </tr>\n",
       "  </thead>\n",
       "  <tbody>\n",
       "    <tr>\n",
       "      <th>0</th>\n",
       "      <td>Dylan Misondo</td>\n",
       "      <td>39</td>\n",
       "      <td>M</td>\n",
       "      <td>OX3 5TG</td>\n",
       "      <td>2016-10-10 00:49:41</td>\n",
       "      <td>2016-12-13 01:57:51</td>\n",
       "      <td>J189</td>\n",
       "      <td>Meredith Gray</td>\n",
       "      <td>(37.25, 44.5]</td>\n",
       "      <td>0</td>\n",
       "    </tr>\n",
       "    <tr>\n",
       "      <th>1</th>\n",
       "      <td>Barbara Doe</td>\n",
       "      <td>49</td>\n",
       "      <td>F</td>\n",
       "      <td>OX1 8VD</td>\n",
       "      <td>2017-01-11 11:38:49</td>\n",
       "      <td>2017-01-23 14:58:51</td>\n",
       "      <td>A419</td>\n",
       "      <td>Meredith Gray</td>\n",
       "      <td>(44.5, 51.75]</td>\n",
       "      <td>1</td>\n",
       "    </tr>\n",
       "    <tr>\n",
       "      <th>2</th>\n",
       "      <td>Maeva Erbal</td>\n",
       "      <td>48</td>\n",
       "      <td>F</td>\n",
       "      <td>OX3 1GR</td>\n",
       "      <td>2018-09-10 14:58:34</td>\n",
       "      <td>2018-09-15 20:59:49</td>\n",
       "      <td>A419</td>\n",
       "      <td>Gregory House</td>\n",
       "      <td>(44.5, 51.75]</td>\n",
       "      <td>1</td>\n",
       "    </tr>\n",
       "    <tr>\n",
       "      <th>3</th>\n",
       "      <td>Michael Toren</td>\n",
       "      <td>58</td>\n",
       "      <td>M</td>\n",
       "      <td>OX2 9IR</td>\n",
       "      <td>2018-02-01 01:24:58</td>\n",
       "      <td>2018-04-15 17:27:59</td>\n",
       "      <td>I519</td>\n",
       "      <td>Hugh Laurie</td>\n",
       "      <td>(51.75, 59.0]</td>\n",
       "      <td>2</td>\n",
       "    </tr>\n",
       "    <tr>\n",
       "      <th>4</th>\n",
       "      <td>Alice Toren</td>\n",
       "      <td>36</td>\n",
       "      <td>F</td>\n",
       "      <td>OX4 8EX</td>\n",
       "      <td>2018-11-26 22:00:31</td>\n",
       "      <td>2018-12-28 23:37:58</td>\n",
       "      <td>A419</td>\n",
       "      <td>Meredith Gray</td>\n",
       "      <td>(29.971, 37.25]</td>\n",
       "      <td>0</td>\n",
       "    </tr>\n",
       "  </tbody>\n",
       "</table>\n",
       "</div>"
      ],
      "text/plain": [
       "           Names  Age Gender Postcode       Admission date  \\\n",
       "0  Dylan Misondo   39      M  OX3 5TG  2016-10-10 00:49:41   \n",
       "1    Barbara Doe   49      F  OX1 8VD  2017-01-11 11:38:49   \n",
       "2    Maeva Erbal   48      F  OX3 1GR  2018-09-10 14:58:34   \n",
       "3  Michael Toren   58      M  OX2 9IR  2018-02-01 01:24:58   \n",
       "4    Alice Toren   36      F  OX4 8EX  2018-11-26 22:00:31   \n",
       "\n",
       "        Discharge date Diagnosis code         Dr name        Age_group  \\\n",
       "0  2016-12-13 01:57:51           J189   Meredith Gray    (37.25, 44.5]   \n",
       "1  2017-01-23 14:58:51           A419   Meredith Gray    (44.5, 51.75]   \n",
       "2  2018-09-15 20:59:49           A419  Gregory House     (44.5, 51.75]   \n",
       "3  2018-04-15 17:27:59           I519     Hugh Laurie    (51.75, 59.0]   \n",
       "4  2018-12-28 23:37:58           A419   Meredith Gray  (29.971, 37.25]   \n",
       "\n",
       "   Age_bin  \n",
       "0        0  \n",
       "1        1  \n",
       "2        1  \n",
       "3        2  \n",
       "4        0  "
      ]
     },
     "execution_count": 18,
     "metadata": {},
     "output_type": "execute_result"
    }
   ],
   "source": [
    "# Print the first five rows to examine the new column\n"
   ]
  },
  {
   "cell_type": "markdown",
   "metadata": {},
   "source": [
    "### (7) Implement Character Masking (Cutting) over the postcode, admission and discharge dates\n"
   ]
  },
  {
   "cell_type": "code",
   "execution_count": 19,
   "metadata": {},
   "outputs": [],
   "source": [
    "def return_first_three_characters(postcode):\n",
    "    \"\"\"\n",
    "    This function will take the postcode as an input, and return the first 3 characters.\n",
    "    \"\"\"\n",
    "    return postcode[:3]"
   ]
  },
  {
   "cell_type": "code",
   "execution_count": null,
   "metadata": {},
   "outputs": [],
   "source": [
    "# Use apply function that you just learnt, \n",
    "# to apply the function return_first_three_characters to the postcode!\n"
   ]
  },
  {
   "cell_type": "code",
   "execution_count": null,
   "metadata": {},
   "outputs": [],
   "source": [
    "# Now write your own function using the template of return_first_three_characters to return\n",
    "# the admission year\n"
   ]
  },
  {
   "cell_type": "code",
   "execution_count": null,
   "metadata": {},
   "outputs": [],
   "source": [
    "# How do we change the number of characters returned by the function?\n"
   ]
  },
  {
   "cell_type": "code",
   "execution_count": 23,
   "metadata": {},
   "outputs": [
    {
     "data": {
      "text/html": [
       "<div>\n",
       "<style scoped>\n",
       "    .dataframe tbody tr th:only-of-type {\n",
       "        vertical-align: middle;\n",
       "    }\n",
       "\n",
       "    .dataframe tbody tr th {\n",
       "        vertical-align: top;\n",
       "    }\n",
       "\n",
       "    .dataframe thead th {\n",
       "        text-align: right;\n",
       "    }\n",
       "</style>\n",
       "<table border=\"1\" class=\"dataframe\">\n",
       "  <thead>\n",
       "    <tr style=\"text-align: right;\">\n",
       "      <th></th>\n",
       "      <th>Names</th>\n",
       "      <th>Age</th>\n",
       "      <th>Gender</th>\n",
       "      <th>Postcode</th>\n",
       "      <th>Admission date</th>\n",
       "      <th>Discharge date</th>\n",
       "      <th>Diagnosis code</th>\n",
       "      <th>Dr name</th>\n",
       "      <th>Age_group</th>\n",
       "      <th>Age_bin</th>\n",
       "      <th>admission_year</th>\n",
       "    </tr>\n",
       "  </thead>\n",
       "  <tbody>\n",
       "    <tr>\n",
       "      <th>0</th>\n",
       "      <td>Dylan Misondo</td>\n",
       "      <td>39</td>\n",
       "      <td>M</td>\n",
       "      <td>OX3 5TG</td>\n",
       "      <td>2016-10-10 00:49:41</td>\n",
       "      <td>2016-12-13 01:57:51</td>\n",
       "      <td>J189</td>\n",
       "      <td>Meredith Gray</td>\n",
       "      <td>(37.25, 44.5]</td>\n",
       "      <td>0</td>\n",
       "      <td>2016</td>\n",
       "    </tr>\n",
       "    <tr>\n",
       "      <th>1</th>\n",
       "      <td>Barbara Doe</td>\n",
       "      <td>49</td>\n",
       "      <td>F</td>\n",
       "      <td>OX1 8VD</td>\n",
       "      <td>2017-01-11 11:38:49</td>\n",
       "      <td>2017-01-23 14:58:51</td>\n",
       "      <td>A419</td>\n",
       "      <td>Meredith Gray</td>\n",
       "      <td>(44.5, 51.75]</td>\n",
       "      <td>1</td>\n",
       "      <td>2017</td>\n",
       "    </tr>\n",
       "    <tr>\n",
       "      <th>2</th>\n",
       "      <td>Maeva Erbal</td>\n",
       "      <td>48</td>\n",
       "      <td>F</td>\n",
       "      <td>OX3 1GR</td>\n",
       "      <td>2018-09-10 14:58:34</td>\n",
       "      <td>2018-09-15 20:59:49</td>\n",
       "      <td>A419</td>\n",
       "      <td>Gregory House</td>\n",
       "      <td>(44.5, 51.75]</td>\n",
       "      <td>1</td>\n",
       "      <td>2018</td>\n",
       "    </tr>\n",
       "    <tr>\n",
       "      <th>3</th>\n",
       "      <td>Michael Toren</td>\n",
       "      <td>58</td>\n",
       "      <td>M</td>\n",
       "      <td>OX2 9IR</td>\n",
       "      <td>2018-02-01 01:24:58</td>\n",
       "      <td>2018-04-15 17:27:59</td>\n",
       "      <td>I519</td>\n",
       "      <td>Hugh Laurie</td>\n",
       "      <td>(51.75, 59.0]</td>\n",
       "      <td>2</td>\n",
       "      <td>2018</td>\n",
       "    </tr>\n",
       "    <tr>\n",
       "      <th>4</th>\n",
       "      <td>Alice Toren</td>\n",
       "      <td>36</td>\n",
       "      <td>F</td>\n",
       "      <td>OX4 8EX</td>\n",
       "      <td>2018-11-26 22:00:31</td>\n",
       "      <td>2018-12-28 23:37:58</td>\n",
       "      <td>A419</td>\n",
       "      <td>Meredith Gray</td>\n",
       "      <td>(29.971, 37.25]</td>\n",
       "      <td>0</td>\n",
       "      <td>2018</td>\n",
       "    </tr>\n",
       "  </tbody>\n",
       "</table>\n",
       "</div>"
      ],
      "text/plain": [
       "           Names  Age Gender Postcode       Admission date  \\\n",
       "0  Dylan Misondo   39      M  OX3 5TG  2016-10-10 00:49:41   \n",
       "1    Barbara Doe   49      F  OX1 8VD  2017-01-11 11:38:49   \n",
       "2    Maeva Erbal   48      F  OX3 1GR  2018-09-10 14:58:34   \n",
       "3  Michael Toren   58      M  OX2 9IR  2018-02-01 01:24:58   \n",
       "4    Alice Toren   36      F  OX4 8EX  2018-11-26 22:00:31   \n",
       "\n",
       "        Discharge date Diagnosis code         Dr name        Age_group  \\\n",
       "0  2016-12-13 01:57:51           J189   Meredith Gray    (37.25, 44.5]   \n",
       "1  2017-01-23 14:58:51           A419   Meredith Gray    (44.5, 51.75]   \n",
       "2  2018-09-15 20:59:49           A419  Gregory House     (44.5, 51.75]   \n",
       "3  2018-04-15 17:27:59           I519     Hugh Laurie    (51.75, 59.0]   \n",
       "4  2018-12-28 23:37:58           A419   Meredith Gray  (29.971, 37.25]   \n",
       "\n",
       "   Age_bin admission_year  \n",
       "0        0           2016  \n",
       "1        1           2017  \n",
       "2        1           2018  \n",
       "3        2           2018  \n",
       "4        0           2018  "
      ]
     },
     "execution_count": 23,
     "metadata": {},
     "output_type": "execute_result"
    }
   ],
   "source": [
    "# Apply the function return_admission_year to the columns ['Admission date'], and ['Discharge date']\n"
   ]
  },
  {
   "cell_type": "markdown",
   "metadata": {},
   "source": [
    "\n",
    "### (8) Ensure k-anonymity (where k = 5)"
   ]
  },
  {
   "cell_type": "code",
   "execution_count": 20,
   "metadata": {},
   "outputs": [
    {
     "data": {
      "text/plain": [
       "Age_group\n",
       "(29.971, 37.25]    25\n",
       "(37.25, 44.5]      23\n",
       "(44.5, 51.75]      23\n",
       "(51.75, 59.0]      29\n",
       "dtype: int64"
      ]
     },
     "execution_count": 20,
     "metadata": {},
     "output_type": "execute_result"
    }
   ],
   "source": [
    "# Notice that when we group the age group into 4 bins, there are at least 25 entries per bin\n",
    "# Let's break this down into different steps\n",
    "\n",
    "# First we group the dataset by the variable we created 'age_group', and then we calculate the size of each age group\n",
    "dataset.groupby(['Age_group']).size()"
   ]
  },
  {
   "cell_type": "code",
   "execution_count": 24,
   "metadata": {},
   "outputs": [
    {
     "data": {
      "text/plain": [
       "admission_year\n",
       "2016    37\n",
       "2017    28\n",
       "2018    35\n",
       "dtype: int64"
      ]
     },
     "execution_count": 24,
     "metadata": {},
     "output_type": "execute_result"
    }
   ],
   "source": [
    "# Ensure that the dataset has at least 5 entries per bin, based on the groupings we used for admission date\n",
    "\n"
   ]
  },
  {
   "cell_type": "code",
   "execution_count": 25,
   "metadata": {},
   "outputs": [],
   "source": [
    "# Now do the same for discharge_year\n"
   ]
  },
  {
   "cell_type": "code",
   "execution_count": null,
   "metadata": {},
   "outputs": [],
   "source": [
    "# Do the same for postcode\n"
   ]
  }
 ],
 "metadata": {
  "kernelspec": {
   "display_name": "Python 3",
   "language": "python",
   "name": "python3"
  },
  "language_info": {
   "codemirror_mode": {
    "name": "ipython",
    "version": 3
   },
   "file_extension": ".py",
   "mimetype": "text/x-python",
   "name": "python",
   "nbconvert_exporter": "python",
   "pygments_lexer": "ipython3",
   "version": "3.6.8"
  }
 },
 "nbformat": 4,
 "nbformat_minor": 5
}
